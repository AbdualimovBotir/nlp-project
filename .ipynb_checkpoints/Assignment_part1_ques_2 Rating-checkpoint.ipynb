{
 "cells": [
  {
   "cell_type": "markdown",
   "id": "55183def",
   "metadata": {},
   "source": [
    "#### Problem statement - There are times when a user writes Good, Nice App or any other positive text, in the review and gives 1-star rating. Your goal is to identify the reviews where the semantics of review text does not match rating. \n",
    "\n",
    "#### Your goal is to identify such ratings where review text is good, but rating is negative- so that the support team can point this to users. \n",
    "\n",
    "Deploy it using - Flask/Streamlit etc and share the live link. "
   ]
  },
  {
   "cell_type": "code",
   "execution_count": 1,
   "id": "ae7c2ddd",
   "metadata": {},
   "outputs": [],
   "source": [
    "import pandas as pd\n",
    "import numpy as np"
   ]
  },
  {
   "cell_type": "code",
   "execution_count": 2,
   "id": "17559782",
   "metadata": {},
   "outputs": [],
   "source": [
    "data = pd.read_csv('chrome_reviews.csv')"
   ]
  },
  {
   "cell_type": "code",
   "execution_count": 3,
   "id": "8357e72f",
   "metadata": {},
   "outputs": [
    {
     "data": {
      "text/html": [
       "<div>\n",
       "<style scoped>\n",
       "    .dataframe tbody tr th:only-of-type {\n",
       "        vertical-align: middle;\n",
       "    }\n",
       "\n",
       "    .dataframe tbody tr th {\n",
       "        vertical-align: top;\n",
       "    }\n",
       "\n",
       "    .dataframe thead th {\n",
       "        text-align: right;\n",
       "    }\n",
       "</style>\n",
       "<table border=\"1\" class=\"dataframe\">\n",
       "  <thead>\n",
       "    <tr style=\"text-align: right;\">\n",
       "      <th></th>\n",
       "      <th>ID</th>\n",
       "      <th>Review URL</th>\n",
       "      <th>Text</th>\n",
       "      <th>Star</th>\n",
       "      <th>Thumbs Up</th>\n",
       "      <th>User Name</th>\n",
       "      <th>Developer Reply</th>\n",
       "      <th>Version</th>\n",
       "      <th>Review Date</th>\n",
       "      <th>App ID</th>\n",
       "    </tr>\n",
       "  </thead>\n",
       "  <tbody>\n",
       "    <tr>\n",
       "      <th>0</th>\n",
       "      <td>3886</td>\n",
       "      <td>https://play.google.com/store/apps/details?id=...</td>\n",
       "      <td>This is very helpfull aap.</td>\n",
       "      <td>5</td>\n",
       "      <td>0</td>\n",
       "      <td>INDIAN Knowledge</td>\n",
       "      <td>NaN</td>\n",
       "      <td>83.0.4103.106</td>\n",
       "      <td>2020-12-19</td>\n",
       "      <td>com.android.chrome</td>\n",
       "    </tr>\n",
       "    <tr>\n",
       "      <th>1</th>\n",
       "      <td>3887</td>\n",
       "      <td>https://play.google.com/store/apps/details?id=...</td>\n",
       "      <td>Good</td>\n",
       "      <td>3</td>\n",
       "      <td>2</td>\n",
       "      <td>Ijeoma Happiness</td>\n",
       "      <td>NaN</td>\n",
       "      <td>85.0.4183.127</td>\n",
       "      <td>2020-12-19</td>\n",
       "      <td>com.android.chrome</td>\n",
       "    </tr>\n",
       "    <tr>\n",
       "      <th>2</th>\n",
       "      <td>3888</td>\n",
       "      <td>https://play.google.com/store/apps/details?id=...</td>\n",
       "      <td>Not able to update. Neither able to uninstall.</td>\n",
       "      <td>1</td>\n",
       "      <td>0</td>\n",
       "      <td>Priti D BtCFs-29</td>\n",
       "      <td>NaN</td>\n",
       "      <td>85.0.4183.127</td>\n",
       "      <td>2020-12-19</td>\n",
       "      <td>com.android.chrome</td>\n",
       "    </tr>\n",
       "    <tr>\n",
       "      <th>3</th>\n",
       "      <td>3889</td>\n",
       "      <td>https://play.google.com/store/apps/details?id=...</td>\n",
       "      <td>Nice app</td>\n",
       "      <td>4</td>\n",
       "      <td>0</td>\n",
       "      <td>Ajeet Raja</td>\n",
       "      <td>NaN</td>\n",
       "      <td>77.0.3865.116</td>\n",
       "      <td>2020-12-19</td>\n",
       "      <td>com.android.chrome</td>\n",
       "    </tr>\n",
       "    <tr>\n",
       "      <th>4</th>\n",
       "      <td>3890</td>\n",
       "      <td>https://play.google.com/store/apps/details?id=...</td>\n",
       "      <td>Many unwanted ads</td>\n",
       "      <td>1</td>\n",
       "      <td>0</td>\n",
       "      <td>Rams Mp</td>\n",
       "      <td>NaN</td>\n",
       "      <td>87.0.4280.66</td>\n",
       "      <td>2020-12-19</td>\n",
       "      <td>com.android.chrome</td>\n",
       "    </tr>\n",
       "  </tbody>\n",
       "</table>\n",
       "</div>"
      ],
      "text/plain": [
       "     ID                                         Review URL  \\\n",
       "0  3886  https://play.google.com/store/apps/details?id=...   \n",
       "1  3887  https://play.google.com/store/apps/details?id=...   \n",
       "2  3888  https://play.google.com/store/apps/details?id=...   \n",
       "3  3889  https://play.google.com/store/apps/details?id=...   \n",
       "4  3890  https://play.google.com/store/apps/details?id=...   \n",
       "\n",
       "                                             Text  Star  Thumbs Up  \\\n",
       "0                      This is very helpfull aap.     5          0   \n",
       "1                                            Good     3          2   \n",
       "2  Not able to update. Neither able to uninstall.     1          0   \n",
       "3                                        Nice app     4          0   \n",
       "4                               Many unwanted ads     1          0   \n",
       "\n",
       "          User Name Developer Reply        Version Review Date  \\\n",
       "0  INDIAN Knowledge             NaN  83.0.4103.106  2020-12-19   \n",
       "1  Ijeoma Happiness             NaN  85.0.4183.127  2020-12-19   \n",
       "2  Priti D BtCFs-29             NaN  85.0.4183.127  2020-12-19   \n",
       "3        Ajeet Raja             NaN  77.0.3865.116  2020-12-19   \n",
       "4           Rams Mp             NaN   87.0.4280.66  2020-12-19   \n",
       "\n",
       "               App ID  \n",
       "0  com.android.chrome  \n",
       "1  com.android.chrome  \n",
       "2  com.android.chrome  \n",
       "3  com.android.chrome  \n",
       "4  com.android.chrome  "
      ]
     },
     "execution_count": 3,
     "metadata": {},
     "output_type": "execute_result"
    }
   ],
   "source": [
    "data.head()"
   ]
  },
  {
   "cell_type": "code",
   "execution_count": 4,
   "id": "17dd7ca0",
   "metadata": {},
   "outputs": [
    {
     "data": {
      "text/plain": [
       "array([5, 3, 1, 4, 2], dtype=int64)"
      ]
     },
     "execution_count": 4,
     "metadata": {},
     "output_type": "execute_result"
    }
   ],
   "source": [
    "data['Star'].unique()"
   ]
  },
  {
   "cell_type": "code",
   "execution_count": 5,
   "id": "99d15421",
   "metadata": {},
   "outputs": [
    {
     "data": {
      "text/plain": [
       "Index(['ID', 'Review URL', 'Text', 'Star', 'Thumbs Up', 'User Name',\n",
       "       'Developer Reply', 'Version', 'Review Date', 'App ID'],\n",
       "      dtype='object')"
      ]
     },
     "execution_count": 5,
     "metadata": {},
     "output_type": "execute_result"
    }
   ],
   "source": [
    "data.columns"
   ]
  },
  {
   "cell_type": "code",
   "execution_count": 6,
   "id": "57636688",
   "metadata": {},
   "outputs": [
    {
     "data": {
      "text/plain": [
       "ID                    0\n",
       "Review URL            0\n",
       "Text                  1\n",
       "Star                  0\n",
       "Thumbs Up             0\n",
       "User Name             0\n",
       "Developer Reply    7109\n",
       "Version              85\n",
       "Review Date           0\n",
       "App ID                0\n",
       "dtype: int64"
      ]
     },
     "execution_count": 6,
     "metadata": {},
     "output_type": "execute_result"
    }
   ],
   "source": [
    "data.isnull().sum()"
   ]
  },
  {
   "cell_type": "code",
   "execution_count": 7,
   "id": "38238ab4",
   "metadata": {},
   "outputs": [
    {
     "data": {
      "text/plain": [
       "(7204, 10)"
      ]
     },
     "execution_count": 7,
     "metadata": {},
     "output_type": "execute_result"
    }
   ],
   "source": [
    "data.shape"
   ]
  },
  {
   "cell_type": "code",
   "execution_count": 8,
   "id": "96dc02bb",
   "metadata": {},
   "outputs": [],
   "source": [
    "data = data.drop(columns=['ID','Review URL','Developer Reply', 'Version', 'Review Date', 'App ID'])"
   ]
  },
  {
   "cell_type": "code",
   "execution_count": 9,
   "id": "b171e042",
   "metadata": {},
   "outputs": [
    {
     "data": {
      "text/plain": [
       "10                                                   Good\n",
       "3275                                         Not updating\n",
       "5054                                             Good app\n",
       "6065                                              Perfect\n",
       "1849                                                 Good\n",
       "2668                                                  Nyc\n",
       "1300                             I'm happy with this app.\n",
       "993     😃I searched up dady chill 😎 and the acsaint😃😃😈...\n",
       "5285                                                 Nice\n",
       "4898                                All features are good\n",
       "Name: Text, dtype: object"
      ]
     },
     "execution_count": 9,
     "metadata": {},
     "output_type": "execute_result"
    }
   ],
   "source": [
    "data['Text'].sample(10)"
   ]
  },
  {
   "cell_type": "code",
   "execution_count": 10,
   "id": "07db5280",
   "metadata": {},
   "outputs": [],
   "source": [
    "data['Text'] = data['Text'].astype(str)"
   ]
  },
  {
   "cell_type": "code",
   "execution_count": 11,
   "id": "122bc5f7",
   "metadata": {},
   "outputs": [
    {
     "data": {
      "text/plain": [
       "0                              This is very helpfull aap.\n",
       "1                                                    Good\n",
       "2          Not able to update. Neither able to uninstall.\n",
       "3                                                Nice app\n",
       "4                                       Many unwanted ads\n",
       "                              ...                        \n",
       "7199                                            Bagusss..\n",
       "7200                                        Bad version 😔\n",
       "7201    One thing that I have to say I can't spelled t...\n",
       "7202                                            Excellent\n",
       "7203    After update it lag and always slow same goes ...\n",
       "Name: Text, Length: 7204, dtype: object"
      ]
     },
     "execution_count": 11,
     "metadata": {},
     "output_type": "execute_result"
    }
   ],
   "source": [
    "data[\"Text\"]"
   ]
  },
  {
   "cell_type": "code",
   "execution_count": 12,
   "id": "fe5ba1a0",
   "metadata": {},
   "outputs": [
    {
     "data": {
      "text/html": [
       "<div>\n",
       "<style scoped>\n",
       "    .dataframe tbody tr th:only-of-type {\n",
       "        vertical-align: middle;\n",
       "    }\n",
       "\n",
       "    .dataframe tbody tr th {\n",
       "        vertical-align: top;\n",
       "    }\n",
       "\n",
       "    .dataframe thead th {\n",
       "        text-align: right;\n",
       "    }\n",
       "</style>\n",
       "<table border=\"1\" class=\"dataframe\">\n",
       "  <thead>\n",
       "    <tr style=\"text-align: right;\">\n",
       "      <th></th>\n",
       "      <th>Text</th>\n",
       "      <th>Star</th>\n",
       "    </tr>\n",
       "  </thead>\n",
       "  <tbody>\n",
       "    <tr>\n",
       "      <th>0</th>\n",
       "      <td>This is very helpfull aap.</td>\n",
       "      <td>5</td>\n",
       "    </tr>\n",
       "    <tr>\n",
       "      <th>1</th>\n",
       "      <td>Good</td>\n",
       "      <td>3</td>\n",
       "    </tr>\n",
       "    <tr>\n",
       "      <th>2</th>\n",
       "      <td>Not able to update. Neither able to uninstall.</td>\n",
       "      <td>1</td>\n",
       "    </tr>\n",
       "    <tr>\n",
       "      <th>3</th>\n",
       "      <td>Nice app</td>\n",
       "      <td>4</td>\n",
       "    </tr>\n",
       "    <tr>\n",
       "      <th>4</th>\n",
       "      <td>Many unwanted ads</td>\n",
       "      <td>1</td>\n",
       "    </tr>\n",
       "  </tbody>\n",
       "</table>\n",
       "</div>"
      ],
      "text/plain": [
       "                                             Text  Star\n",
       "0                      This is very helpfull aap.     5\n",
       "1                                            Good     3\n",
       "2  Not able to update. Neither able to uninstall.     1\n",
       "3                                        Nice app     4\n",
       "4                               Many unwanted ads     1"
      ]
     },
     "execution_count": 12,
     "metadata": {},
     "output_type": "execute_result"
    }
   ],
   "source": [
    "df = data[['Text','Star']]\n",
    "df.head()"
   ]
  },
  {
   "cell_type": "code",
   "execution_count": 13,
   "id": "7284d767",
   "metadata": {},
   "outputs": [
    {
     "name": "stdout",
     "output_type": "stream",
     "text": [
      "<class 'pandas.core.frame.DataFrame'>\n",
      "RangeIndex: 7204 entries, 0 to 7203\n",
      "Data columns (total 2 columns):\n",
      " #   Column  Non-Null Count  Dtype \n",
      "---  ------  --------------  ----- \n",
      " 0   Text    7204 non-null   object\n",
      " 1   Star    7204 non-null   int64 \n",
      "dtypes: int64(1), object(1)\n",
      "memory usage: 112.7+ KB\n"
     ]
    }
   ],
   "source": [
    "## droping nan values\n",
    "df.dropna()\n",
    "df.info()"
   ]
  },
  {
   "cell_type": "code",
   "execution_count": 14,
   "id": "67123579",
   "metadata": {},
   "outputs": [
    {
     "name": "stderr",
     "output_type": "stream",
     "text": [
      "[nltk_data] Downloading package stopwords to\n",
      "[nltk_data]     C:\\Users\\HP\\AppData\\Roaming\\nltk_data...\n",
      "[nltk_data]   Package stopwords is already up-to-date!\n"
     ]
    }
   ],
   "source": [
    "#import natural language tool kit\n",
    "import nltk\n",
    "import re #regular expressions module\n",
    "\n",
    "nltk.download('stopwords')\n",
    "from nltk.stem.porter import PorterStemmer\n",
    "from nltk.corpus import stopwords"
   ]
  },
  {
   "cell_type": "code",
   "execution_count": 15,
   "id": "fb2b2a74",
   "metadata": {},
   "outputs": [],
   "source": [
    "#declaring porter stemmer\n",
    "port = PorterStemmer()\n",
    "def text_cleaner (text): #function to clean text\n",
    "    cleaned= re.sub('[^a-zA-Z]', \" \", text) \n",
    "    cleaned= cleaned.lower()\n",
    "    cleaned = cleaned.split()\n",
    "    cleaned= [port.stem (word) for word in cleaned if word not in stopwords.words(\"english\")]\n",
    "    cleaned= ' '.join(cleaned)\n",
    "    return cleaned"
   ]
  },
  {
   "cell_type": "code",
   "execution_count": 16,
   "id": "3c3386cc",
   "metadata": {},
   "outputs": [
    {
     "name": "stderr",
     "output_type": "stream",
     "text": [
      "<ipython-input-16-3726a45343ca>:1: SettingWithCopyWarning: \n",
      "A value is trying to be set on a copy of a slice from a DataFrame.\n",
      "Try using .loc[row_indexer,col_indexer] = value instead\n",
      "\n",
      "See the caveats in the documentation: https://pandas.pydata.org/pandas-docs/stable/user_guide/indexing.html#returning-a-view-versus-a-copy\n",
      "  df[\"Cleaned_Text\"] = df[\"Text\"].apply(lambda x: text_cleaner(str(x))) #declare cleaned text feature\n"
     ]
    },
    {
     "data": {
      "text/html": [
       "<div>\n",
       "<style scoped>\n",
       "    .dataframe tbody tr th:only-of-type {\n",
       "        vertical-align: middle;\n",
       "    }\n",
       "\n",
       "    .dataframe tbody tr th {\n",
       "        vertical-align: top;\n",
       "    }\n",
       "\n",
       "    .dataframe thead th {\n",
       "        text-align: right;\n",
       "    }\n",
       "</style>\n",
       "<table border=\"1\" class=\"dataframe\">\n",
       "  <thead>\n",
       "    <tr style=\"text-align: right;\">\n",
       "      <th></th>\n",
       "      <th>Text</th>\n",
       "      <th>Star</th>\n",
       "      <th>Cleaned_Text</th>\n",
       "      <th>Length</th>\n",
       "    </tr>\n",
       "  </thead>\n",
       "  <tbody>\n",
       "    <tr>\n",
       "      <th>0</th>\n",
       "      <td>This is very helpfull aap.</td>\n",
       "      <td>5</td>\n",
       "      <td>helpful aap</td>\n",
       "      <td>26</td>\n",
       "    </tr>\n",
       "    <tr>\n",
       "      <th>1</th>\n",
       "      <td>Good</td>\n",
       "      <td>3</td>\n",
       "      <td>good</td>\n",
       "      <td>4</td>\n",
       "    </tr>\n",
       "    <tr>\n",
       "      <th>2</th>\n",
       "      <td>Not able to update. Neither able to uninstall.</td>\n",
       "      <td>1</td>\n",
       "      <td>abl updat neither abl uninstal</td>\n",
       "      <td>46</td>\n",
       "    </tr>\n",
       "    <tr>\n",
       "      <th>3</th>\n",
       "      <td>Nice app</td>\n",
       "      <td>4</td>\n",
       "      <td>nice app</td>\n",
       "      <td>8</td>\n",
       "    </tr>\n",
       "    <tr>\n",
       "      <th>4</th>\n",
       "      <td>Many unwanted ads</td>\n",
       "      <td>1</td>\n",
       "      <td>mani unwant ad</td>\n",
       "      <td>17</td>\n",
       "    </tr>\n",
       "  </tbody>\n",
       "</table>\n",
       "</div>"
      ],
      "text/plain": [
       "                                             Text  Star  \\\n",
       "0                      This is very helpfull aap.     5   \n",
       "1                                            Good     3   \n",
       "2  Not able to update. Neither able to uninstall.     1   \n",
       "3                                        Nice app     4   \n",
       "4                               Many unwanted ads     1   \n",
       "\n",
       "                     Cleaned_Text  Length  \n",
       "0                     helpful aap      26  \n",
       "1                            good       4  \n",
       "2  abl updat neither abl uninstal      46  \n",
       "3                        nice app       8  \n",
       "4                  mani unwant ad      17  "
      ]
     },
     "execution_count": 16,
     "metadata": {},
     "output_type": "execute_result"
    }
   ],
   "source": [
    "df[\"Cleaned_Text\"] = df[\"Text\"].apply(lambda x: text_cleaner(str(x))) #declare cleaned text feature\n",
    "df[\"Length\"] = df[\"Text\"].apply(lambda x:len(str(x))) #declare length feature\n",
    "df.head()"
   ]
  },
  {
   "cell_type": "code",
   "execution_count": 17,
   "id": "475ad360",
   "metadata": {},
   "outputs": [],
   "source": [
    "from textblob import TextBlob\n",
    "from nltk.sentiment.vader import SentimentIntensityAnalyzer\n",
    "\n",
    "def sentiment_vader(text, sid):\n",
    "    ss = sid.polarity_scores(text)\n",
    "    ss.pop('compound')\n",
    "    return max(ss, key=ss.get)"
   ]
  },
  {
   "cell_type": "code",
   "execution_count": 18,
   "id": "49f2d5f7",
   "metadata": {},
   "outputs": [],
   "source": [
    "def sentiment_textblob(text):\n",
    "        x = TextBlob(text).sentiment.polarity\n",
    "        \n",
    "        if x<0:\n",
    "            return 'negative'\n",
    "        elif x==0:\n",
    "            return 'neutral'\n",
    "        else:\n",
    "            return 'positive'\n",
    "\n",
    "def plot_sentiment_barchart(text, method='TextBlob'):\n",
    "    if method == 'TextBlob':\n",
    "        sentiment = text.map(lambda x: sentiment_textblob(x))\n",
    "    elif method == 'Vader':\n",
    "        nltk.download('vader_lexicon')\n",
    "        sid = SentimentIntensityAnalyzer()\n",
    "        sentiment = text.map(lambda x: sentiment_vader(x, sid=sid))\n",
    "    else:\n",
    "        raise ValueError('Textblob or Vader')\n",
    "    \n",
    "    plt.bar(sentiment.value_counts().index,\n",
    "            sentiment.value_counts())"
   ]
  },
  {
   "cell_type": "code",
   "execution_count": 19,
   "id": "54a1cf8f",
   "metadata": {},
   "outputs": [
    {
     "name": "stderr",
     "output_type": "stream",
     "text": [
      "[nltk_data] Downloading package vader_lexicon to\n",
      "[nltk_data]     C:\\Users\\HP\\AppData\\Roaming\\nltk_data...\n",
      "[nltk_data]   Package vader_lexicon is already up-to-date!\n"
     ]
    }
   ],
   "source": [
    "nltk.download('vader_lexicon')\n",
    "from nltk.sentiment.vader import SentimentIntensityAnalyzer\n",
    "sid = SentimentIntensityAnalyzer()\n"
   ]
  },
  {
   "cell_type": "code",
   "execution_count": 20,
   "id": "a5e378d2",
   "metadata": {},
   "outputs": [],
   "source": [
    "df[\"Score\"] = df[\"Cleaned_Text\"].apply(lambda review:sid.polarity_scores(review))"
   ]
  },
  {
   "cell_type": "code",
   "execution_count": 21,
   "id": "0d703945",
   "metadata": {},
   "outputs": [],
   "source": [
    "df[\"Compound_Score\"]  = df['Score'].apply(lambda score_dict: score_dict['compound'])"
   ]
  },
  {
   "cell_type": "code",
   "execution_count": 22,
   "id": "12f1514b",
   "metadata": {},
   "outputs": [
    {
     "data": {
      "text/html": [
       "<div>\n",
       "<style scoped>\n",
       "    .dataframe tbody tr th:only-of-type {\n",
       "        vertical-align: middle;\n",
       "    }\n",
       "\n",
       "    .dataframe tbody tr th {\n",
       "        vertical-align: top;\n",
       "    }\n",
       "\n",
       "    .dataframe thead th {\n",
       "        text-align: right;\n",
       "    }\n",
       "</style>\n",
       "<table border=\"1\" class=\"dataframe\">\n",
       "  <thead>\n",
       "    <tr style=\"text-align: right;\">\n",
       "      <th></th>\n",
       "      <th>Text</th>\n",
       "      <th>Star</th>\n",
       "      <th>Cleaned_Text</th>\n",
       "      <th>Length</th>\n",
       "      <th>Score</th>\n",
       "      <th>Compound_Score</th>\n",
       "      <th>Result</th>\n",
       "    </tr>\n",
       "  </thead>\n",
       "  <tbody>\n",
       "    <tr>\n",
       "      <th>0</th>\n",
       "      <td>This is very helpfull aap.</td>\n",
       "      <td>5</td>\n",
       "      <td>helpful aap</td>\n",
       "      <td>26</td>\n",
       "      <td>{'neg': 0.0, 'neu': 0.263, 'pos': 0.737, 'comp...</td>\n",
       "      <td>0.4215</td>\n",
       "      <td>positive</td>\n",
       "    </tr>\n",
       "    <tr>\n",
       "      <th>1</th>\n",
       "      <td>Good</td>\n",
       "      <td>3</td>\n",
       "      <td>good</td>\n",
       "      <td>4</td>\n",
       "      <td>{'neg': 0.0, 'neu': 0.0, 'pos': 1.0, 'compound...</td>\n",
       "      <td>0.4404</td>\n",
       "      <td>positive</td>\n",
       "    </tr>\n",
       "    <tr>\n",
       "      <th>2</th>\n",
       "      <td>Not able to update. Neither able to uninstall.</td>\n",
       "      <td>1</td>\n",
       "      <td>abl updat neither abl uninstal</td>\n",
       "      <td>46</td>\n",
       "      <td>{'neg': 0.0, 'neu': 1.0, 'pos': 0.0, 'compound...</td>\n",
       "      <td>0.0000</td>\n",
       "      <td>neutral</td>\n",
       "    </tr>\n",
       "    <tr>\n",
       "      <th>3</th>\n",
       "      <td>Nice app</td>\n",
       "      <td>4</td>\n",
       "      <td>nice app</td>\n",
       "      <td>8</td>\n",
       "      <td>{'neg': 0.0, 'neu': 0.263, 'pos': 0.737, 'comp...</td>\n",
       "      <td>0.4215</td>\n",
       "      <td>positive</td>\n",
       "    </tr>\n",
       "    <tr>\n",
       "      <th>4</th>\n",
       "      <td>Many unwanted ads</td>\n",
       "      <td>1</td>\n",
       "      <td>mani unwant ad</td>\n",
       "      <td>17</td>\n",
       "      <td>{'neg': 0.0, 'neu': 1.0, 'pos': 0.0, 'compound...</td>\n",
       "      <td>0.0000</td>\n",
       "      <td>neutral</td>\n",
       "    </tr>\n",
       "  </tbody>\n",
       "</table>\n",
       "</div>"
      ],
      "text/plain": [
       "                                             Text  Star  \\\n",
       "0                      This is very helpfull aap.     5   \n",
       "1                                            Good     3   \n",
       "2  Not able to update. Neither able to uninstall.     1   \n",
       "3                                        Nice app     4   \n",
       "4                               Many unwanted ads     1   \n",
       "\n",
       "                     Cleaned_Text  Length  \\\n",
       "0                     helpful aap      26   \n",
       "1                            good       4   \n",
       "2  abl updat neither abl uninstal      46   \n",
       "3                        nice app       8   \n",
       "4                  mani unwant ad      17   \n",
       "\n",
       "                                               Score  Compound_Score    Result  \n",
       "0  {'neg': 0.0, 'neu': 0.263, 'pos': 0.737, 'comp...          0.4215  positive  \n",
       "1  {'neg': 0.0, 'neu': 0.0, 'pos': 1.0, 'compound...          0.4404  positive  \n",
       "2  {'neg': 0.0, 'neu': 1.0, 'pos': 0.0, 'compound...          0.0000   neutral  \n",
       "3  {'neg': 0.0, 'neu': 0.263, 'pos': 0.737, 'comp...          0.4215  positive  \n",
       "4  {'neg': 0.0, 'neu': 1.0, 'pos': 0.0, 'compound...          0.0000   neutral  "
      ]
     },
     "execution_count": 22,
     "metadata": {},
     "output_type": "execute_result"
    }
   ],
   "source": [
    "df[\"Result\"] = df[\"Compound_Score\"].apply(lambda c: 'positive' if c > 0 else ('negative' if c < 0 else 'neutral'))\n",
    "df.head()"
   ]
  },
  {
   "cell_type": "code",
   "execution_count": 23,
   "id": "9a21cc28",
   "metadata": {},
   "outputs": [
    {
     "data": {
      "text/html": [
       "<div>\n",
       "<style scoped>\n",
       "    .dataframe tbody tr th:only-of-type {\n",
       "        vertical-align: middle;\n",
       "    }\n",
       "\n",
       "    .dataframe tbody tr th {\n",
       "        vertical-align: top;\n",
       "    }\n",
       "\n",
       "    .dataframe thead th {\n",
       "        text-align: right;\n",
       "    }\n",
       "</style>\n",
       "<table border=\"1\" class=\"dataframe\">\n",
       "  <thead>\n",
       "    <tr style=\"text-align: right;\">\n",
       "      <th></th>\n",
       "      <th>Text</th>\n",
       "      <th>Star</th>\n",
       "      <th>Cleaned_Text</th>\n",
       "      <th>Length</th>\n",
       "      <th>Score</th>\n",
       "      <th>Compound_Score</th>\n",
       "      <th>Result</th>\n",
       "      <th>Suggestion</th>\n",
       "    </tr>\n",
       "  </thead>\n",
       "  <tbody>\n",
       "    <tr>\n",
       "      <th>0</th>\n",
       "      <td>This is very helpfull aap.</td>\n",
       "      <td>5</td>\n",
       "      <td>helpful aap</td>\n",
       "      <td>26</td>\n",
       "      <td>{'neg': 0.0, 'neu': 0.263, 'pos': 0.737, 'comp...</td>\n",
       "      <td>0.4215</td>\n",
       "      <td>positive</td>\n",
       "      <td>Correct rating</td>\n",
       "    </tr>\n",
       "    <tr>\n",
       "      <th>1</th>\n",
       "      <td>Good</td>\n",
       "      <td>3</td>\n",
       "      <td>good</td>\n",
       "      <td>4</td>\n",
       "      <td>{'neg': 0.0, 'neu': 0.0, 'pos': 1.0, 'compound...</td>\n",
       "      <td>0.4404</td>\n",
       "      <td>positive</td>\n",
       "      <td>Correct rating</td>\n",
       "    </tr>\n",
       "    <tr>\n",
       "      <th>2</th>\n",
       "      <td>Not able to update. Neither able to uninstall.</td>\n",
       "      <td>1</td>\n",
       "      <td>abl updat neither abl uninstal</td>\n",
       "      <td>46</td>\n",
       "      <td>{'neg': 0.0, 'neu': 1.0, 'pos': 0.0, 'compound...</td>\n",
       "      <td>0.0000</td>\n",
       "      <td>neutral</td>\n",
       "      <td>Check rating given</td>\n",
       "    </tr>\n",
       "    <tr>\n",
       "      <th>3</th>\n",
       "      <td>Nice app</td>\n",
       "      <td>4</td>\n",
       "      <td>nice app</td>\n",
       "      <td>8</td>\n",
       "      <td>{'neg': 0.0, 'neu': 0.263, 'pos': 0.737, 'comp...</td>\n",
       "      <td>0.4215</td>\n",
       "      <td>positive</td>\n",
       "      <td>Correct rating</td>\n",
       "    </tr>\n",
       "    <tr>\n",
       "      <th>4</th>\n",
       "      <td>Many unwanted ads</td>\n",
       "      <td>1</td>\n",
       "      <td>mani unwant ad</td>\n",
       "      <td>17</td>\n",
       "      <td>{'neg': 0.0, 'neu': 1.0, 'pos': 0.0, 'compound...</td>\n",
       "      <td>0.0000</td>\n",
       "      <td>neutral</td>\n",
       "      <td>Check rating given</td>\n",
       "    </tr>\n",
       "  </tbody>\n",
       "</table>\n",
       "</div>"
      ],
      "text/plain": [
       "                                             Text  Star  \\\n",
       "0                      This is very helpfull aap.     5   \n",
       "1                                            Good     3   \n",
       "2  Not able to update. Neither able to uninstall.     1   \n",
       "3                                        Nice app     4   \n",
       "4                               Many unwanted ads     1   \n",
       "\n",
       "                     Cleaned_Text  Length  \\\n",
       "0                     helpful aap      26   \n",
       "1                            good       4   \n",
       "2  abl updat neither abl uninstal      46   \n",
       "3                        nice app       8   \n",
       "4                  mani unwant ad      17   \n",
       "\n",
       "                                               Score  Compound_Score  \\\n",
       "0  {'neg': 0.0, 'neu': 0.263, 'pos': 0.737, 'comp...          0.4215   \n",
       "1  {'neg': 0.0, 'neu': 0.0, 'pos': 1.0, 'compound...          0.4404   \n",
       "2  {'neg': 0.0, 'neu': 1.0, 'pos': 0.0, 'compound...          0.0000   \n",
       "3  {'neg': 0.0, 'neu': 0.263, 'pos': 0.737, 'comp...          0.4215   \n",
       "4  {'neg': 0.0, 'neu': 1.0, 'pos': 0.0, 'compound...          0.0000   \n",
       "\n",
       "     Result          Suggestion  \n",
       "0  positive      Correct rating  \n",
       "1  positive      Correct rating  \n",
       "2   neutral  Check rating given  \n",
       "3  positive      Correct rating  \n",
       "4   neutral  Check rating given  "
      ]
     },
     "execution_count": 23,
     "metadata": {},
     "output_type": "execute_result"
    }
   ],
   "source": [
    "Suggestion = []\n",
    "for row in df[\"Star\"] :\n",
    "    if row >= 3 :\n",
    "         Suggestion.append(\"Correct rating\")\n",
    "    else :\n",
    "         Suggestion.append(\"Check rating given\")\n",
    "            \n",
    "df[\"Suggestion\"] = Suggestion\n",
    "df.head()"
   ]
  },
  {
   "cell_type": "code",
   "execution_count": 24,
   "id": "a7bb3bda",
   "metadata": {},
   "outputs": [
    {
     "data": {
      "text/html": [
       "<div>\n",
       "<style scoped>\n",
       "    .dataframe tbody tr th:only-of-type {\n",
       "        vertical-align: middle;\n",
       "    }\n",
       "\n",
       "    .dataframe tbody tr th {\n",
       "        vertical-align: top;\n",
       "    }\n",
       "\n",
       "    .dataframe thead th {\n",
       "        text-align: right;\n",
       "    }\n",
       "</style>\n",
       "<table border=\"1\" class=\"dataframe\">\n",
       "  <thead>\n",
       "    <tr style=\"text-align: right;\">\n",
       "      <th></th>\n",
       "      <th>Text</th>\n",
       "      <th>Star</th>\n",
       "      <th>Cleaned_Text</th>\n",
       "      <th>Length</th>\n",
       "      <th>Score</th>\n",
       "      <th>Compound_Score</th>\n",
       "      <th>Result</th>\n",
       "      <th>Suggestion</th>\n",
       "    </tr>\n",
       "  </thead>\n",
       "  <tbody>\n",
       "    <tr>\n",
       "      <th>0</th>\n",
       "      <td>This is very helpfull aap.</td>\n",
       "      <td>5</td>\n",
       "      <td>helpful aap</td>\n",
       "      <td>26</td>\n",
       "      <td>{'neg': 0.0, 'neu': 0.263, 'pos': 0.737, 'comp...</td>\n",
       "      <td>0.4215</td>\n",
       "      <td>positive</td>\n",
       "      <td>Correct rating</td>\n",
       "    </tr>\n",
       "    <tr>\n",
       "      <th>1</th>\n",
       "      <td>Good</td>\n",
       "      <td>3</td>\n",
       "      <td>good</td>\n",
       "      <td>4</td>\n",
       "      <td>{'neg': 0.0, 'neu': 0.0, 'pos': 1.0, 'compound...</td>\n",
       "      <td>0.4404</td>\n",
       "      <td>positive</td>\n",
       "      <td>Correct rating</td>\n",
       "    </tr>\n",
       "    <tr>\n",
       "      <th>2</th>\n",
       "      <td>Not able to update. Neither able to uninstall.</td>\n",
       "      <td>1</td>\n",
       "      <td>abl updat neither abl uninstal</td>\n",
       "      <td>46</td>\n",
       "      <td>{'neg': 0.0, 'neu': 1.0, 'pos': 0.0, 'compound...</td>\n",
       "      <td>0.0000</td>\n",
       "      <td>neutral</td>\n",
       "      <td>Check rating given</td>\n",
       "    </tr>\n",
       "    <tr>\n",
       "      <th>3</th>\n",
       "      <td>Nice app</td>\n",
       "      <td>4</td>\n",
       "      <td>nice app</td>\n",
       "      <td>8</td>\n",
       "      <td>{'neg': 0.0, 'neu': 0.263, 'pos': 0.737, 'comp...</td>\n",
       "      <td>0.4215</td>\n",
       "      <td>positive</td>\n",
       "      <td>Correct rating</td>\n",
       "    </tr>\n",
       "    <tr>\n",
       "      <th>4</th>\n",
       "      <td>Many unwanted ads</td>\n",
       "      <td>1</td>\n",
       "      <td>mani unwant ad</td>\n",
       "      <td>17</td>\n",
       "      <td>{'neg': 0.0, 'neu': 1.0, 'pos': 0.0, 'compound...</td>\n",
       "      <td>0.0000</td>\n",
       "      <td>neutral</td>\n",
       "      <td>Check rating given</td>\n",
       "    </tr>\n",
       "    <tr>\n",
       "      <th>...</th>\n",
       "      <td>...</td>\n",
       "      <td>...</td>\n",
       "      <td>...</td>\n",
       "      <td>...</td>\n",
       "      <td>...</td>\n",
       "      <td>...</td>\n",
       "      <td>...</td>\n",
       "      <td>...</td>\n",
       "    </tr>\n",
       "    <tr>\n",
       "      <th>7199</th>\n",
       "      <td>Bagusss..</td>\n",
       "      <td>5</td>\n",
       "      <td>bagusss</td>\n",
       "      <td>9</td>\n",
       "      <td>{'neg': 0.0, 'neu': 1.0, 'pos': 0.0, 'compound...</td>\n",
       "      <td>0.0000</td>\n",
       "      <td>neutral</td>\n",
       "      <td>Correct rating</td>\n",
       "    </tr>\n",
       "    <tr>\n",
       "      <th>7200</th>\n",
       "      <td>Bad version 😔</td>\n",
       "      <td>1</td>\n",
       "      <td>bad version</td>\n",
       "      <td>13</td>\n",
       "      <td>{'neg': 0.778, 'neu': 0.222, 'pos': 0.0, 'comp...</td>\n",
       "      <td>-0.5423</td>\n",
       "      <td>negative</td>\n",
       "      <td>Check rating given</td>\n",
       "    </tr>\n",
       "    <tr>\n",
       "      <th>7201</th>\n",
       "      <td>One thing that I have to say I can't spelled t...</td>\n",
       "      <td>5</td>\n",
       "      <td>one thing say spell good problem tri spell best</td>\n",
       "      <td>105</td>\n",
       "      <td>{'neg': 0.171, 'neu': 0.38, 'pos': 0.449, 'com...</td>\n",
       "      <td>0.6597</td>\n",
       "      <td>positive</td>\n",
       "      <td>Correct rating</td>\n",
       "    </tr>\n",
       "    <tr>\n",
       "      <th>7202</th>\n",
       "      <td>Excellent</td>\n",
       "      <td>5</td>\n",
       "      <td>excel</td>\n",
       "      <td>9</td>\n",
       "      <td>{'neg': 0.0, 'neu': 0.0, 'pos': 1.0, 'compound...</td>\n",
       "      <td>0.4588</td>\n",
       "      <td>positive</td>\n",
       "      <td>Correct rating</td>\n",
       "    </tr>\n",
       "    <tr>\n",
       "      <th>7203</th>\n",
       "      <td>After update it lag and always slow same goes ...</td>\n",
       "      <td>1</td>\n",
       "      <td>updat lag alway slow goe googlee want work</td>\n",
       "      <td>97</td>\n",
       "      <td>{'neg': 0.247, 'neu': 0.619, 'pos': 0.134, 'co...</td>\n",
       "      <td>-0.2732</td>\n",
       "      <td>negative</td>\n",
       "      <td>Check rating given</td>\n",
       "    </tr>\n",
       "  </tbody>\n",
       "</table>\n",
       "<p>7204 rows × 8 columns</p>\n",
       "</div>"
      ],
      "text/plain": [
       "                                                   Text  Star  \\\n",
       "0                            This is very helpfull aap.     5   \n",
       "1                                                  Good     3   \n",
       "2        Not able to update. Neither able to uninstall.     1   \n",
       "3                                              Nice app     4   \n",
       "4                                     Many unwanted ads     1   \n",
       "...                                                 ...   ...   \n",
       "7199                                          Bagusss..     5   \n",
       "7200                                      Bad version 😔     1   \n",
       "7201  One thing that I have to say I can't spelled t...     5   \n",
       "7202                                          Excellent     5   \n",
       "7203  After update it lag and always slow same goes ...     1   \n",
       "\n",
       "                                         Cleaned_Text  Length  \\\n",
       "0                                         helpful aap      26   \n",
       "1                                                good       4   \n",
       "2                      abl updat neither abl uninstal      46   \n",
       "3                                            nice app       8   \n",
       "4                                      mani unwant ad      17   \n",
       "...                                               ...     ...   \n",
       "7199                                          bagusss       9   \n",
       "7200                                      bad version      13   \n",
       "7201  one thing say spell good problem tri spell best     105   \n",
       "7202                                            excel       9   \n",
       "7203       updat lag alway slow goe googlee want work      97   \n",
       "\n",
       "                                                  Score  Compound_Score  \\\n",
       "0     {'neg': 0.0, 'neu': 0.263, 'pos': 0.737, 'comp...          0.4215   \n",
       "1     {'neg': 0.0, 'neu': 0.0, 'pos': 1.0, 'compound...          0.4404   \n",
       "2     {'neg': 0.0, 'neu': 1.0, 'pos': 0.0, 'compound...          0.0000   \n",
       "3     {'neg': 0.0, 'neu': 0.263, 'pos': 0.737, 'comp...          0.4215   \n",
       "4     {'neg': 0.0, 'neu': 1.0, 'pos': 0.0, 'compound...          0.0000   \n",
       "...                                                 ...             ...   \n",
       "7199  {'neg': 0.0, 'neu': 1.0, 'pos': 0.0, 'compound...          0.0000   \n",
       "7200  {'neg': 0.778, 'neu': 0.222, 'pos': 0.0, 'comp...         -0.5423   \n",
       "7201  {'neg': 0.171, 'neu': 0.38, 'pos': 0.449, 'com...          0.6597   \n",
       "7202  {'neg': 0.0, 'neu': 0.0, 'pos': 1.0, 'compound...          0.4588   \n",
       "7203  {'neg': 0.247, 'neu': 0.619, 'pos': 0.134, 'co...         -0.2732   \n",
       "\n",
       "        Result          Suggestion  \n",
       "0     positive      Correct rating  \n",
       "1     positive      Correct rating  \n",
       "2      neutral  Check rating given  \n",
       "3     positive      Correct rating  \n",
       "4      neutral  Check rating given  \n",
       "...        ...                 ...  \n",
       "7199   neutral      Correct rating  \n",
       "7200  negative  Check rating given  \n",
       "7201  positive      Correct rating  \n",
       "7202  positive      Correct rating  \n",
       "7203  negative  Check rating given  \n",
       "\n",
       "[7204 rows x 8 columns]"
      ]
     },
     "execution_count": 24,
     "metadata": {},
     "output_type": "execute_result"
    }
   ],
   "source": [
    "df"
   ]
  },
  {
   "cell_type": "markdown",
   "id": "44765fc3",
   "metadata": {},
   "source": [
    "### model building"
   ]
  },
  {
   "cell_type": "code",
   "execution_count": 25,
   "id": "93e08bbb",
   "metadata": {},
   "outputs": [],
   "source": [
    "from nltk.corpus import stopwords \n",
    "from nltk.stem.porter import PorterStemmer\n",
    "ps= PorterStemmer()\n",
    "corpus = []\n",
    "for i in range(len(data)):\n",
    "    review=re.sub('[^a-z-A-Z]', ' ',df['Text'][i])\n",
    "    review=review.lower()\n",
    "    review=review.split()\n",
    "    \n",
    "    review=[ps.stem(word) for word in review if not word in stopwords.words('english')]\n",
    "    review= ' '.join(review)\n",
    "    corpus.append(review)"
   ]
  },
  {
   "cell_type": "code",
   "execution_count": 26,
   "id": "3625cb2b",
   "metadata": {},
   "outputs": [],
   "source": [
    "from sklearn.preprocessing import LabelEncoder\n",
    "lab_enc = LabelEncoder()\n",
    "df['Suggestion'] = lab_enc.fit_transform(df['Suggestion'])"
   ]
  },
  {
   "cell_type": "code",
   "execution_count": 27,
   "id": "5d5d10b4",
   "metadata": {},
   "outputs": [],
   "source": [
    "X = df.drop(columns=['Suggestion'])\n",
    "Y = df['Suggestion']"
   ]
  },
  {
   "cell_type": "code",
   "execution_count": 28,
   "id": "2b132cdb",
   "metadata": {},
   "outputs": [],
   "source": [
    "from sklearn.feature_extraction.text import TfidfVectorizer\n",
    "tfidf_v=TfidfVectorizer(max_features=2,ngram_range=(1,2))\n",
    "X= tfidf_v.fit_transform(corpus).toarray()"
   ]
  },
  {
   "cell_type": "code",
   "execution_count": 29,
   "id": "07c1765c",
   "metadata": {},
   "outputs": [],
   "source": [
    "from sklearn.model_selection import train_test_split"
   ]
  },
  {
   "cell_type": "code",
   "execution_count": 30,
   "id": "8fdc6044",
   "metadata": {},
   "outputs": [],
   "source": [
    "X_train, X_test, Y_train, Y_test = train_test_split(X,Y,test_size=0.25,random_state=0)"
   ]
  },
  {
   "cell_type": "code",
   "execution_count": 31,
   "id": "caacf452",
   "metadata": {},
   "outputs": [
    {
     "data": {
      "text/plain": [
       "{'analyzer': 'word',\n",
       " 'binary': False,\n",
       " 'decode_error': 'strict',\n",
       " 'dtype': numpy.float64,\n",
       " 'encoding': 'utf-8',\n",
       " 'input': 'content',\n",
       " 'lowercase': True,\n",
       " 'max_df': 1.0,\n",
       " 'max_features': 2,\n",
       " 'min_df': 1,\n",
       " 'ngram_range': (1, 3),\n",
       " 'norm': 'l2',\n",
       " 'preprocessor': None,\n",
       " 'smooth_idf': True,\n",
       " 'stop_words': None,\n",
       " 'strip_accents': None,\n",
       " 'sublinear_tf': False,\n",
       " 'token_pattern': '(?u)\\\\b\\\\w\\\\w+\\\\b',\n",
       " 'tokenizer': None,\n",
       " 'use_idf': True,\n",
       " 'vocabulary': None}"
      ]
     },
     "execution_count": 31,
     "metadata": {},
     "output_type": "execute_result"
    }
   ],
   "source": [
    "tfidf_v.get_params()"
   ]
  },
  {
   "cell_type": "code",
   "execution_count": 32,
   "id": "0e4d431d",
   "metadata": {},
   "outputs": [],
   "source": [
    "import warnings\n",
    "warnings.simplefilter(\"ignore\")"
   ]
  },
  {
   "cell_type": "code",
   "execution_count": 33,
   "id": "8d28a53c",
   "metadata": {},
   "outputs": [],
   "source": [
    "count_data=pd.DataFrame(X_train, columns=tfidf_v.get_feature_names())"
   ]
  },
  {
   "cell_type": "code",
   "execution_count": 34,
   "id": "0342d49a",
   "metadata": {},
   "outputs": [],
   "source": [
    "import matplotlib.pyplot as plt"
   ]
  },
  {
   "cell_type": "code",
   "execution_count": 35,
   "id": "e0c77d65",
   "metadata": {},
   "outputs": [],
   "source": [
    "from sklearn.naive_bayes import MultinomialNB\n",
    "classifier=MultinomialNB()"
   ]
  },
  {
   "cell_type": "code",
   "execution_count": 36,
   "id": "f819ef2e",
   "metadata": {},
   "outputs": [],
   "source": [
    "import numpy as np\n",
    "import itertools\n",
    "from sklearn.metrics import accuracy_score,confusion_matrix"
   ]
  },
  {
   "cell_type": "code",
   "execution_count": 37,
   "id": "7bc074e0",
   "metadata": {},
   "outputs": [],
   "source": [
    "def plot_confusion_matrix(cm, classes, normalize=False,\n",
    "                         title='Confusion matrix', \n",
    "                         cmap=plt.cm.Blues):\n",
    "    plt.imshow(cm, interpolation='nearest', cmap=cmap)\n",
    "    plt.title(title)\n",
    "    plt.colorbar()\n",
    "    tick_marks=np.arange(len(classes))\n",
    "    plt.xticks(tick_marks, classes, rotation=45)\n",
    "    plt.yticks(tick_marks, classes)\n",
    "    \n",
    "    if normalize:\n",
    "        cm = cm.astype('float') / cm.sum(axis=1)[:, np.newaxis]\n",
    "        print(\"Normalized confusion matrix\")\n",
    "    else:\n",
    "        print('Confusion matrix, without normalization')\n",
    "\n",
    "    print(cm)\n",
    "\n",
    "    thresh = cm.max() / 2.\n",
    "    for i, j in itertools.product(range(cm.shape[0]), range(cm.shape[1])):\n",
    "        plt.text(j, i, cm[i, j],\n",
    "            horizontalalignment=\"center\",\n",
    "            color=\"white\" if cm[i, j] > thresh else \"black\")\n",
    "        \n",
    "    plt.tight_layout()\n",
    "    plt.ylabel('True label')\n",
    "    plt.xlabel('Predicted label')"
   ]
  },
  {
   "cell_type": "code",
   "execution_count": 38,
   "id": "e829e96a",
   "metadata": {},
   "outputs": [
    {
     "name": "stdout",
     "output_type": "stream",
     "text": [
      "accuracy:   81.843\n",
      "Confusion matrix, without normalization\n",
      "[[ 294  260]\n",
      " [  67 1180]]\n"
     ]
    },
    {
     "data": {
      "image/png": "[encoded data removed]",
      "text/plain": [
       "<Figure size 432x288 with 2 Axes>"
      ]
     },
     "metadata": {
      "needs_background": "light"
     },
     "output_type": "display_data"
    }
   ],
   "source": [
    "classifier.fit(X_train,Y_train)\n",
    "pred=classifier.predict(X_test)\n",
    "score=accuracy_score(Y_test, pred)*100\n",
    "print(\"accuracy:   %0.3f\"% score)\n",
    "cm=confusion_matrix(Y_test, pred)\n",
    "plot_confusion_matrix(cm, classes=[\"Correct stars\",\"Wrong star\"])"
   ]
  },
  {
   "cell_type": "code",
   "execution_count": 39,
   "id": "e8f2bd6a",
   "metadata": {},
   "outputs": [],
   "source": [
    "import pickle\n",
    "filename= 'model.pkl'\n",
    "pickle.dump(classifier, open(filename, 'wb'))"
   ]
  },
  {
   "cell_type": "code",
   "execution_count": 40,
   "id": "a690e7d0",
   "metadata": {},
   "outputs": [
    {
     "data": {
      "text/html": [
       "<div>\n",
       "<style scoped>\n",
       "    .dataframe tbody tr th:only-of-type {\n",
       "        vertical-align: middle;\n",
       "    }\n",
       "\n",
       "    .dataframe tbody tr th {\n",
       "        vertical-align: top;\n",
       "    }\n",
       "\n",
       "    .dataframe thead th {\n",
       "        text-align: right;\n",
       "    }\n",
       "</style>\n",
       "<table border=\"1\" class=\"dataframe\">\n",
       "  <thead>\n",
       "    <tr style=\"text-align: right;\">\n",
       "      <th></th>\n",
       "      <th>Text</th>\n",
       "      <th>Star</th>\n",
       "      <th>Cleaned_Text</th>\n",
       "      <th>Length</th>\n",
       "      <th>Score</th>\n",
       "      <th>Compound_Score</th>\n",
       "      <th>Result</th>\n",
       "      <th>Suggestion</th>\n",
       "    </tr>\n",
       "  </thead>\n",
       "  <tbody>\n",
       "    <tr>\n",
       "      <th>0</th>\n",
       "      <td>This is very helpfull aap.</td>\n",
       "      <td>5</td>\n",
       "      <td>helpful aap</td>\n",
       "      <td>26</td>\n",
       "      <td>{'neg': 0.0, 'neu': 0.263, 'pos': 0.737, 'comp...</td>\n",
       "      <td>0.4215</td>\n",
       "      <td>positive</td>\n",
       "      <td>1</td>\n",
       "    </tr>\n",
       "    <tr>\n",
       "      <th>1</th>\n",
       "      <td>Good</td>\n",
       "      <td>3</td>\n",
       "      <td>good</td>\n",
       "      <td>4</td>\n",
       "      <td>{'neg': 0.0, 'neu': 0.0, 'pos': 1.0, 'compound...</td>\n",
       "      <td>0.4404</td>\n",
       "      <td>positive</td>\n",
       "      <td>1</td>\n",
       "    </tr>\n",
       "    <tr>\n",
       "      <th>3</th>\n",
       "      <td>Nice app</td>\n",
       "      <td>4</td>\n",
       "      <td>nice app</td>\n",
       "      <td>8</td>\n",
       "      <td>{'neg': 0.0, 'neu': 0.263, 'pos': 0.737, 'comp...</td>\n",
       "      <td>0.4215</td>\n",
       "      <td>positive</td>\n",
       "      <td>1</td>\n",
       "    </tr>\n",
       "    <tr>\n",
       "      <th>5</th>\n",
       "      <td>This app good</td>\n",
       "      <td>4</td>\n",
       "      <td>app good</td>\n",
       "      <td>13</td>\n",
       "      <td>{'neg': 0.0, 'neu': 0.256, 'pos': 0.744, 'comp...</td>\n",
       "      <td>0.4404</td>\n",
       "      <td>positive</td>\n",
       "      <td>1</td>\n",
       "    </tr>\n",
       "    <tr>\n",
       "      <th>10</th>\n",
       "      <td>Good</td>\n",
       "      <td>5</td>\n",
       "      <td>good</td>\n",
       "      <td>4</td>\n",
       "      <td>{'neg': 0.0, 'neu': 0.0, 'pos': 1.0, 'compound...</td>\n",
       "      <td>0.4404</td>\n",
       "      <td>positive</td>\n",
       "      <td>1</td>\n",
       "    </tr>\n",
       "  </tbody>\n",
       "</table>\n",
       "</div>"
      ],
      "text/plain": [
       "                          Text  Star Cleaned_Text  Length  \\\n",
       "0   This is very helpfull aap.     5  helpful aap      26   \n",
       "1                         Good     3         good       4   \n",
       "3                     Nice app     4     nice app       8   \n",
       "5                This app good     4     app good      13   \n",
       "10                        Good     5         good       4   \n",
       "\n",
       "                                                Score  Compound_Score  \\\n",
       "0   {'neg': 0.0, 'neu': 0.263, 'pos': 0.737, 'comp...          0.4215   \n",
       "1   {'neg': 0.0, 'neu': 0.0, 'pos': 1.0, 'compound...          0.4404   \n",
       "3   {'neg': 0.0, 'neu': 0.263, 'pos': 0.737, 'comp...          0.4215   \n",
       "5   {'neg': 0.0, 'neu': 0.256, 'pos': 0.744, 'comp...          0.4404   \n",
       "10  {'neg': 0.0, 'neu': 0.0, 'pos': 1.0, 'compound...          0.4404   \n",
       "\n",
       "      Result  Suggestion  \n",
       "0   positive           1  \n",
       "1   positive           1  \n",
       "3   positive           1  \n",
       "5   positive           1  \n",
       "10  positive           1  "
      ]
     },
     "execution_count": 40,
     "metadata": {},
     "output_type": "execute_result"
    }
   ],
   "source": [
    "df_focus = df[(df.Result == \"positive\")]\n",
    "df_focus.head()"
   ]
  },
  {
   "cell_type": "code",
   "execution_count": 41,
   "id": "b22887c4",
   "metadata": {},
   "outputs": [
    {
     "data": {
      "text/plain": [
       "1    3192\n",
       "0     491\n",
       "Name: Suggestion, dtype: int64"
      ]
     },
     "execution_count": 41,
     "metadata": {},
     "output_type": "execute_result"
    }
   ],
   "source": [
    "df_focus.Suggestion.value_counts()"
   ]
  },
  {
   "cell_type": "code",
   "execution_count": 42,
   "id": "19b6a500",
   "metadata": {},
   "outputs": [
    {
     "data": {
      "text/html": [
       "<div>\n",
       "<style scoped>\n",
       "    .dataframe tbody tr th:only-of-type {\n",
       "        vertical-align: middle;\n",
       "    }\n",
       "\n",
       "    .dataframe tbody tr th {\n",
       "        vertical-align: top;\n",
       "    }\n",
       "\n",
       "    .dataframe thead th {\n",
       "        text-align: right;\n",
       "    }\n",
       "</style>\n",
       "<table border=\"1\" class=\"dataframe\">\n",
       "  <thead>\n",
       "    <tr style=\"text-align: right;\">\n",
       "      <th></th>\n",
       "      <th>Text</th>\n",
       "      <th>Star</th>\n",
       "      <th>Cleaned_Text</th>\n",
       "      <th>Length</th>\n",
       "      <th>Score</th>\n",
       "      <th>Compound_Score</th>\n",
       "      <th>Result</th>\n",
       "      <th>Suggestion</th>\n",
       "    </tr>\n",
       "  </thead>\n",
       "  <tbody>\n",
       "    <tr>\n",
       "      <th>2827</th>\n",
       "      <td>Good</td>\n",
       "      <td>3</td>\n",
       "      <td>good</td>\n",
       "      <td>4</td>\n",
       "      <td>{'neg': 0.0, 'neu': 0.0, 'pos': 1.0, 'compound...</td>\n",
       "      <td>0.4404</td>\n",
       "      <td>positive</td>\n",
       "      <td>1</td>\n",
       "    </tr>\n",
       "    <tr>\n",
       "      <th>6788</th>\n",
       "      <td>Nice...&amp; Helpful</td>\n",
       "      <td>5</td>\n",
       "      <td>nice help</td>\n",
       "      <td>16</td>\n",
       "      <td>{'neg': 0.0, 'neu': 0.0, 'pos': 1.0, 'compound...</td>\n",
       "      <td>0.6705</td>\n",
       "      <td>positive</td>\n",
       "      <td>1</td>\n",
       "    </tr>\n",
       "    <tr>\n",
       "      <th>2740</th>\n",
       "      <td>Good</td>\n",
       "      <td>5</td>\n",
       "      <td>good</td>\n",
       "      <td>4</td>\n",
       "      <td>{'neg': 0.0, 'neu': 0.0, 'pos': 1.0, 'compound...</td>\n",
       "      <td>0.4404</td>\n",
       "      <td>positive</td>\n",
       "      <td>1</td>\n",
       "    </tr>\n",
       "    <tr>\n",
       "      <th>635</th>\n",
       "      <td>Very good</td>\n",
       "      <td>5</td>\n",
       "      <td>good</td>\n",
       "      <td>9</td>\n",
       "      <td>{'neg': 0.0, 'neu': 0.0, 'pos': 1.0, 'compound...</td>\n",
       "      <td>0.4404</td>\n",
       "      <td>positive</td>\n",
       "      <td>1</td>\n",
       "    </tr>\n",
       "    <tr>\n",
       "      <th>1836</th>\n",
       "      <td>Kewl</td>\n",
       "      <td>5</td>\n",
       "      <td>kewl</td>\n",
       "      <td>4</td>\n",
       "      <td>{'neg': 0.0, 'neu': 0.0, 'pos': 1.0, 'compound...</td>\n",
       "      <td>0.3182</td>\n",
       "      <td>positive</td>\n",
       "      <td>1</td>\n",
       "    </tr>\n",
       "    <tr>\n",
       "      <th>6256</th>\n",
       "      <td>Best</td>\n",
       "      <td>4</td>\n",
       "      <td>best</td>\n",
       "      <td>4</td>\n",
       "      <td>{'neg': 0.0, 'neu': 0.0, 'pos': 1.0, 'compound...</td>\n",
       "      <td>0.6369</td>\n",
       "      <td>positive</td>\n",
       "      <td>1</td>\n",
       "    </tr>\n",
       "    <tr>\n",
       "      <th>1768</th>\n",
       "      <td>Best of best</td>\n",
       "      <td>5</td>\n",
       "      <td>best best</td>\n",
       "      <td>12</td>\n",
       "      <td>{'neg': 0.0, 'neu': 0.0, 'pos': 1.0, 'compound...</td>\n",
       "      <td>0.8555</td>\n",
       "      <td>positive</td>\n",
       "      <td>1</td>\n",
       "    </tr>\n",
       "    <tr>\n",
       "      <th>1807</th>\n",
       "      <td>Great</td>\n",
       "      <td>4</td>\n",
       "      <td>great</td>\n",
       "      <td>5</td>\n",
       "      <td>{'neg': 0.0, 'neu': 0.0, 'pos': 1.0, 'compound...</td>\n",
       "      <td>0.6249</td>\n",
       "      <td>positive</td>\n",
       "      <td>1</td>\n",
       "    </tr>\n",
       "    <tr>\n",
       "      <th>5588</th>\n",
       "      <td>Nice</td>\n",
       "      <td>5</td>\n",
       "      <td>nice</td>\n",
       "      <td>4</td>\n",
       "      <td>{'neg': 0.0, 'neu': 0.0, 'pos': 1.0, 'compound...</td>\n",
       "      <td>0.4215</td>\n",
       "      <td>positive</td>\n",
       "      <td>1</td>\n",
       "    </tr>\n",
       "    <tr>\n",
       "      <th>6912</th>\n",
       "      <td>Good</td>\n",
       "      <td>5</td>\n",
       "      <td>good</td>\n",
       "      <td>4</td>\n",
       "      <td>{'neg': 0.0, 'neu': 0.0, 'pos': 1.0, 'compound...</td>\n",
       "      <td>0.4404</td>\n",
       "      <td>positive</td>\n",
       "      <td>1</td>\n",
       "    </tr>\n",
       "  </tbody>\n",
       "</table>\n",
       "</div>"
      ],
      "text/plain": [
       "                  Text  Star Cleaned_Text  Length  \\\n",
       "2827              Good     3         good       4   \n",
       "6788  Nice...& Helpful     5    nice help      16   \n",
       "2740              Good     5         good       4   \n",
       "635          Very good     5         good       9   \n",
       "1836              Kewl     5         kewl       4   \n",
       "6256              Best     4         best       4   \n",
       "1768      Best of best     5    best best      12   \n",
       "1807             Great     4        great       5   \n",
       "5588              Nice     5         nice       4   \n",
       "6912              Good     5         good       4   \n",
       "\n",
       "                                                  Score  Compound_Score  \\\n",
       "2827  {'neg': 0.0, 'neu': 0.0, 'pos': 1.0, 'compound...          0.4404   \n",
       "6788  {'neg': 0.0, 'neu': 0.0, 'pos': 1.0, 'compound...          0.6705   \n",
       "2740  {'neg': 0.0, 'neu': 0.0, 'pos': 1.0, 'compound...          0.4404   \n",
       "635   {'neg': 0.0, 'neu': 0.0, 'pos': 1.0, 'compound...          0.4404   \n",
       "1836  {'neg': 0.0, 'neu': 0.0, 'pos': 1.0, 'compound...          0.3182   \n",
       "6256  {'neg': 0.0, 'neu': 0.0, 'pos': 1.0, 'compound...          0.6369   \n",
       "1768  {'neg': 0.0, 'neu': 0.0, 'pos': 1.0, 'compound...          0.8555   \n",
       "1807  {'neg': 0.0, 'neu': 0.0, 'pos': 1.0, 'compound...          0.6249   \n",
       "5588  {'neg': 0.0, 'neu': 0.0, 'pos': 1.0, 'compound...          0.4215   \n",
       "6912  {'neg': 0.0, 'neu': 0.0, 'pos': 1.0, 'compound...          0.4404   \n",
       "\n",
       "        Result  Suggestion  \n",
       "2827  positive           1  \n",
       "6788  positive           1  \n",
       "2740  positive           1  \n",
       "635   positive           1  \n",
       "1836  positive           1  \n",
       "6256  positive           1  \n",
       "1768  positive           1  \n",
       "1807  positive           1  \n",
       "5588  positive           1  \n",
       "6912  positive           1  "
      ]
     },
     "execution_count": 42,
     "metadata": {},
     "output_type": "execute_result"
    }
   ],
   "source": [
    "df_focus.sample(10)"
   ]
  },
  {
   "cell_type": "code",
   "execution_count": 43,
   "id": "75e22272",
   "metadata": {},
   "outputs": [],
   "source": [
    "keyword = ['good','nice','thank you','best','awesome','helpful']"
   ]
  },
  {
   "cell_type": "code",
   "execution_count": 44,
   "id": "1a2582ba",
   "metadata": {},
   "outputs": [
    {
     "data": {
      "text/html": [
       "<div>\n",
       "<style scoped>\n",
       "    .dataframe tbody tr th:only-of-type {\n",
       "        vertical-align: middle;\n",
       "    }\n",
       "\n",
       "    .dataframe tbody tr th {\n",
       "        vertical-align: top;\n",
       "    }\n",
       "\n",
       "    .dataframe thead th {\n",
       "        text-align: right;\n",
       "    }\n",
       "</style>\n",
       "<table border=\"1\" class=\"dataframe\">\n",
       "  <thead>\n",
       "    <tr style=\"text-align: right;\">\n",
       "      <th></th>\n",
       "      <th>Text</th>\n",
       "      <th>Star</th>\n",
       "      <th>Cleaned_Text</th>\n",
       "      <th>Suggestion</th>\n",
       "    </tr>\n",
       "  </thead>\n",
       "  <tbody>\n",
       "  </tbody>\n",
       "</table>\n",
       "</div>"
      ],
      "text/plain": [
       "Empty DataFrame\n",
       "Columns: [Text, Star, Cleaned_Text, Suggestion]\n",
       "Index: []"
      ]
     },
     "metadata": {},
     "output_type": "display_data"
    },
    {
     "name": "stdout",
     "output_type": "stream",
     "text": [
      "There are about 0 reviews that are positive but have a bad rating\n"
     ]
    }
   ],
   "source": [
    "final = df_focus[(df_focus[\"Suggestion\"] == \"Focus Needed\")]\n",
    "final = final[final[\"Cleaned_Text\"].isin(keyword)]\n",
    "final.drop(final.iloc[:, 3:7], inplace = True, axis = 1)\n",
    "display(final.head())\n",
    "print(f\"There are about {len(final.Suggestion)} reviews that are positive but have a bad rating\")"
   ]
  },
  {
   "cell_type": "markdown",
   "id": "cd8ea91b",
   "metadata": {},
   "source": [
    "### part 1 ques 2 completed"
   ]
  }
 ],
 "metadata": {
  "kernelspec": {
   "display_name": "Python 3",
   "language": "python",
   "name": "python3"
  },
  "language_info": {
   "codemirror_mode": {
    "name": "ipython",
    "version": 3
   },
   "file_extension": ".py",
   "mimetype": "text/x-python",
   "name": "python",
   "nbconvert_exporter": "python",
   "pygments_lexer": "ipython3",
   "version": "3.8.8"
  }
 },
 "nbformat": 4,
 "nbformat_minor": 5
}
