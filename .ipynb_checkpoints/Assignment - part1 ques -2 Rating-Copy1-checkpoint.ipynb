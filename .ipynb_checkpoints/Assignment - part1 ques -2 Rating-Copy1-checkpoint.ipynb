{
 "cells": [
  {
   "cell_type": "markdown",
   "id": "55183def",
   "metadata": {},
   "source": [
    "#### Problem statement - There are times when a user writes Good, Nice App or any other positive text, in the review and gives 1-star rating. Your goal is to identify the reviews where the semantics of review text does not match rating. \n",
    "\n",
    "#### Your goal is to identify such ratings where review text is good, but rating is negative- so that the support team can point this to users. \n",
    "\n",
    "Deploy it using - Flask/Streamlit etc and share the live link. "
   ]
  },
  {
   "cell_type": "code",
   "execution_count": 1,
   "id": "ae7c2ddd",
   "metadata": {},
   "outputs": [],
   "source": [
    "import pandas as pd\n",
    "import numpy as np"
   ]
  },
  {
   "cell_type": "code",
   "execution_count": 2,
   "id": "17559782",
   "metadata": {},
   "outputs": [],
   "source": [
    "data = pd.read_csv('chrome_reviews.csv')"
   ]
  },
  {
   "cell_type": "code",
   "execution_count": 3,
   "id": "8357e72f",
   "metadata": {},
   "outputs": [
    {
     "data": {
      "text/html": [
       "<div>\n",
       "<style scoped>\n",
       "    .dataframe tbody tr th:only-of-type {\n",
       "        vertical-align: middle;\n",
       "    }\n",
       "\n",
       "    .dataframe tbody tr th {\n",
       "        vertical-align: top;\n",
       "    }\n",
       "\n",
       "    .dataframe thead th {\n",
       "        text-align: right;\n",
       "    }\n",
       "</style>\n",
       "<table border=\"1\" class=\"dataframe\">\n",
       "  <thead>\n",
       "    <tr style=\"text-align: right;\">\n",
       "      <th></th>\n",
       "      <th>ID</th>\n",
       "      <th>Review URL</th>\n",
       "      <th>Text</th>\n",
       "      <th>Star</th>\n",
       "      <th>Thumbs Up</th>\n",
       "      <th>User Name</th>\n",
       "      <th>Developer Reply</th>\n",
       "      <th>Version</th>\n",
       "      <th>Review Date</th>\n",
       "      <th>App ID</th>\n",
       "    </tr>\n",
       "  </thead>\n",
       "  <tbody>\n",
       "    <tr>\n",
       "      <th>0</th>\n",
       "      <td>3886</td>\n",
       "      <td>https://play.google.com/store/apps/details?id=...</td>\n",
       "      <td>This is very helpfull aap.</td>\n",
       "      <td>5</td>\n",
       "      <td>0</td>\n",
       "      <td>INDIAN Knowledge</td>\n",
       "      <td>NaN</td>\n",
       "      <td>83.0.4103.106</td>\n",
       "      <td>2020-12-19</td>\n",
       "      <td>com.android.chrome</td>\n",
       "    </tr>\n",
       "    <tr>\n",
       "      <th>1</th>\n",
       "      <td>3887</td>\n",
       "      <td>https://play.google.com/store/apps/details?id=...</td>\n",
       "      <td>Good</td>\n",
       "      <td>3</td>\n",
       "      <td>2</td>\n",
       "      <td>Ijeoma Happiness</td>\n",
       "      <td>NaN</td>\n",
       "      <td>85.0.4183.127</td>\n",
       "      <td>2020-12-19</td>\n",
       "      <td>com.android.chrome</td>\n",
       "    </tr>\n",
       "    <tr>\n",
       "      <th>2</th>\n",
       "      <td>3888</td>\n",
       "      <td>https://play.google.com/store/apps/details?id=...</td>\n",
       "      <td>Not able to update. Neither able to uninstall.</td>\n",
       "      <td>1</td>\n",
       "      <td>0</td>\n",
       "      <td>Priti D BtCFs-29</td>\n",
       "      <td>NaN</td>\n",
       "      <td>85.0.4183.127</td>\n",
       "      <td>2020-12-19</td>\n",
       "      <td>com.android.chrome</td>\n",
       "    </tr>\n",
       "    <tr>\n",
       "      <th>3</th>\n",
       "      <td>3889</td>\n",
       "      <td>https://play.google.com/store/apps/details?id=...</td>\n",
       "      <td>Nice app</td>\n",
       "      <td>4</td>\n",
       "      <td>0</td>\n",
       "      <td>Ajeet Raja</td>\n",
       "      <td>NaN</td>\n",
       "      <td>77.0.3865.116</td>\n",
       "      <td>2020-12-19</td>\n",
       "      <td>com.android.chrome</td>\n",
       "    </tr>\n",
       "    <tr>\n",
       "      <th>4</th>\n",
       "      <td>3890</td>\n",
       "      <td>https://play.google.com/store/apps/details?id=...</td>\n",
       "      <td>Many unwanted ads</td>\n",
       "      <td>1</td>\n",
       "      <td>0</td>\n",
       "      <td>Rams Mp</td>\n",
       "      <td>NaN</td>\n",
       "      <td>87.0.4280.66</td>\n",
       "      <td>2020-12-19</td>\n",
       "      <td>com.android.chrome</td>\n",
       "    </tr>\n",
       "  </tbody>\n",
       "</table>\n",
       "</div>"
      ],
      "text/plain": [
       "     ID                                         Review URL  \\\n",
       "0  3886  https://play.google.com/store/apps/details?id=...   \n",
       "1  3887  https://play.google.com/store/apps/details?id=...   \n",
       "2  3888  https://play.google.com/store/apps/details?id=...   \n",
       "3  3889  https://play.google.com/store/apps/details?id=...   \n",
       "4  3890  https://play.google.com/store/apps/details?id=...   \n",
       "\n",
       "                                             Text  Star  Thumbs Up  \\\n",
       "0                      This is very helpfull aap.     5          0   \n",
       "1                                            Good     3          2   \n",
       "2  Not able to update. Neither able to uninstall.     1          0   \n",
       "3                                        Nice app     4          0   \n",
       "4                               Many unwanted ads     1          0   \n",
       "\n",
       "          User Name Developer Reply        Version Review Date  \\\n",
       "0  INDIAN Knowledge             NaN  83.0.4103.106  2020-12-19   \n",
       "1  Ijeoma Happiness             NaN  85.0.4183.127  2020-12-19   \n",
       "2  Priti D BtCFs-29             NaN  85.0.4183.127  2020-12-19   \n",
       "3        Ajeet Raja             NaN  77.0.3865.116  2020-12-19   \n",
       "4           Rams Mp             NaN   87.0.4280.66  2020-12-19   \n",
       "\n",
       "               App ID  \n",
       "0  com.android.chrome  \n",
       "1  com.android.chrome  \n",
       "2  com.android.chrome  \n",
       "3  com.android.chrome  \n",
       "4  com.android.chrome  "
      ]
     },
     "execution_count": 3,
     "metadata": {},
     "output_type": "execute_result"
    }
   ],
   "source": [
    "data.head()"
   ]
  },
  {
   "cell_type": "code",
   "execution_count": 4,
   "id": "17dd7ca0",
   "metadata": {},
   "outputs": [
    {
     "data": {
      "text/plain": [
       "array([5, 3, 1, 4, 2], dtype=int64)"
      ]
     },
     "execution_count": 4,
     "metadata": {},
     "output_type": "execute_result"
    }
   ],
   "source": [
    "data['Star'].unique()"
   ]
  },
  {
   "cell_type": "code",
   "execution_count": 5,
   "id": "99d15421",
   "metadata": {},
   "outputs": [
    {
     "data": {
      "text/plain": [
       "Index(['ID', 'Review URL', 'Text', 'Star', 'Thumbs Up', 'User Name',\n",
       "       'Developer Reply', 'Version', 'Review Date', 'App ID'],\n",
       "      dtype='object')"
      ]
     },
     "execution_count": 5,
     "metadata": {},
     "output_type": "execute_result"
    }
   ],
   "source": [
    "data.columns"
   ]
  },
  {
   "cell_type": "code",
   "execution_count": 6,
   "id": "57636688",
   "metadata": {},
   "outputs": [
    {
     "data": {
      "text/plain": [
       "ID                    0\n",
       "Review URL            0\n",
       "Text                  1\n",
       "Star                  0\n",
       "Thumbs Up             0\n",
       "User Name             0\n",
       "Developer Reply    7109\n",
       "Version              85\n",
       "Review Date           0\n",
       "App ID                0\n",
       "dtype: int64"
      ]
     },
     "execution_count": 6,
     "metadata": {},
     "output_type": "execute_result"
    }
   ],
   "source": [
    "data.isnull().sum()"
   ]
  },
  {
   "cell_type": "code",
   "execution_count": 7,
   "id": "38238ab4",
   "metadata": {},
   "outputs": [
    {
     "data": {
      "text/plain": [
       "(7204, 10)"
      ]
     },
     "execution_count": 7,
     "metadata": {},
     "output_type": "execute_result"
    }
   ],
   "source": [
    "data.shape"
   ]
  },
  {
   "cell_type": "code",
   "execution_count": 8,
   "id": "96dc02bb",
   "metadata": {},
   "outputs": [],
   "source": [
    "data = data.drop(columns=['ID','Review URL','Developer Reply', 'Version', 'Review Date', 'App ID'])"
   ]
  },
  {
   "cell_type": "code",
   "execution_count": 9,
   "id": "b171e042",
   "metadata": {},
   "outputs": [
    {
     "data": {
      "text/plain": [
       "7124                                                 Good\n",
       "2017    I've just accessed my apps and games library s...\n",
       "3013                                                 Good\n",
       "5655         It's quite a unique app and it helps so much\n",
       "2544                                                 Good\n",
       "603                                    সুমন xxxx 11223344\n",
       "6414    I am not able to update this app don't know wh...\n",
       "1786                                       Very nice tube\n",
       "4883                                              viusasa\n",
       "2840                                             Very bad\n",
       "Name: Text, dtype: object"
      ]
     },
     "execution_count": 9,
     "metadata": {},
     "output_type": "execute_result"
    }
   ],
   "source": [
    "data['Text'].sample(10)"
   ]
  },
  {
   "cell_type": "code",
   "execution_count": 10,
   "id": "07db5280",
   "metadata": {},
   "outputs": [],
   "source": [
    "data['Text'] = data['Text'].astype(str)"
   ]
  },
  {
   "cell_type": "code",
   "execution_count": 11,
   "id": "122bc5f7",
   "metadata": {},
   "outputs": [
    {
     "data": {
      "text/plain": [
       "0                              This is very helpfull aap.\n",
       "1                                                    Good\n",
       "2          Not able to update. Neither able to uninstall.\n",
       "3                                                Nice app\n",
       "4                                       Many unwanted ads\n",
       "                              ...                        \n",
       "7199                                            Bagusss..\n",
       "7200                                        Bad version 😔\n",
       "7201    One thing that I have to say I can't spelled t...\n",
       "7202                                            Excellent\n",
       "7203    After update it lag and always slow same goes ...\n",
       "Name: Text, Length: 7204, dtype: object"
      ]
     },
     "execution_count": 11,
     "metadata": {},
     "output_type": "execute_result"
    }
   ],
   "source": [
    "data[\"Text\"]"
   ]
  },
  {
   "cell_type": "code",
   "execution_count": 12,
   "id": "fe5ba1a0",
   "metadata": {},
   "outputs": [
    {
     "data": {
      "text/html": [
       "<div>\n",
       "<style scoped>\n",
       "    .dataframe tbody tr th:only-of-type {\n",
       "        vertical-align: middle;\n",
       "    }\n",
       "\n",
       "    .dataframe tbody tr th {\n",
       "        vertical-align: top;\n",
       "    }\n",
       "\n",
       "    .dataframe thead th {\n",
       "        text-align: right;\n",
       "    }\n",
       "</style>\n",
       "<table border=\"1\" class=\"dataframe\">\n",
       "  <thead>\n",
       "    <tr style=\"text-align: right;\">\n",
       "      <th></th>\n",
       "      <th>Text</th>\n",
       "      <th>Star</th>\n",
       "    </tr>\n",
       "  </thead>\n",
       "  <tbody>\n",
       "    <tr>\n",
       "      <th>0</th>\n",
       "      <td>This is very helpfull aap.</td>\n",
       "      <td>5</td>\n",
       "    </tr>\n",
       "    <tr>\n",
       "      <th>1</th>\n",
       "      <td>Good</td>\n",
       "      <td>3</td>\n",
       "    </tr>\n",
       "    <tr>\n",
       "      <th>2</th>\n",
       "      <td>Not able to update. Neither able to uninstall.</td>\n",
       "      <td>1</td>\n",
       "    </tr>\n",
       "    <tr>\n",
       "      <th>3</th>\n",
       "      <td>Nice app</td>\n",
       "      <td>4</td>\n",
       "    </tr>\n",
       "    <tr>\n",
       "      <th>4</th>\n",
       "      <td>Many unwanted ads</td>\n",
       "      <td>1</td>\n",
       "    </tr>\n",
       "  </tbody>\n",
       "</table>\n",
       "</div>"
      ],
      "text/plain": [
       "                                             Text  Star\n",
       "0                      This is very helpfull aap.     5\n",
       "1                                            Good     3\n",
       "2  Not able to update. Neither able to uninstall.     1\n",
       "3                                        Nice app     4\n",
       "4                               Many unwanted ads     1"
      ]
     },
     "execution_count": 12,
     "metadata": {},
     "output_type": "execute_result"
    }
   ],
   "source": [
    "df = data[['Text','Star']]\n",
    "df.head()"
   ]
  },
  {
   "cell_type": "code",
   "execution_count": 13,
   "id": "7284d767",
   "metadata": {},
   "outputs": [
    {
     "name": "stdout",
     "output_type": "stream",
     "text": [
      "<class 'pandas.core.frame.DataFrame'>\n",
      "RangeIndex: 7204 entries, 0 to 7203\n",
      "Data columns (total 2 columns):\n",
      " #   Column  Non-Null Count  Dtype \n",
      "---  ------  --------------  ----- \n",
      " 0   Text    7204 non-null   object\n",
      " 1   Star    7204 non-null   int64 \n",
      "dtypes: int64(1), object(1)\n",
      "memory usage: 112.7+ KB\n"
     ]
    }
   ],
   "source": [
    "## droping nan values\n",
    "df.dropna()\n",
    "df.info()"
   ]
  },
  {
   "cell_type": "code",
   "execution_count": 14,
   "id": "67123579",
   "metadata": {},
   "outputs": [
    {
     "name": "stderr",
     "output_type": "stream",
     "text": [
      "[nltk_data] Downloading package stopwords to\n",
      "[nltk_data]     C:\\Users\\HP\\AppData\\Roaming\\nltk_data...\n",
      "[nltk_data]   Package stopwords is already up-to-date!\n"
     ]
    }
   ],
   "source": [
    "#import natural language tool kit\n",
    "import nltk\n",
    "import re #regular expressions module\n",
    "\n",
    "nltk.download('stopwords')\n",
    "from nltk.stem.porter import PorterStemmer\n",
    "from nltk.corpus import stopwords"
   ]
  },
  {
   "cell_type": "code",
   "execution_count": 15,
   "id": "fb2b2a74",
   "metadata": {},
   "outputs": [],
   "source": [
    "#declaring porter stemmer\n",
    "port = PorterStemmer()\n",
    "def text_cleaner (text): #function to clean text\n",
    "    cleaned= re.sub('[^a-zA-Z]', \" \", text) \n",
    "    cleaned= cleaned.lower()\n",
    "    cleaned = cleaned.split()\n",
    "    cleaned= [port.stem (word) for word in cleaned if word not in stopwords.words(\"english\")]\n",
    "    cleaned= ' '.join(cleaned)\n",
    "    return cleaned"
   ]
  },
  {
   "cell_type": "code",
   "execution_count": 16,
   "id": "3c3386cc",
   "metadata": {},
   "outputs": [
    {
     "name": "stderr",
     "output_type": "stream",
     "text": [
      "<ipython-input-16-3726a45343ca>:1: SettingWithCopyWarning: \n",
      "A value is trying to be set on a copy of a slice from a DataFrame.\n",
      "Try using .loc[row_indexer,col_indexer] = value instead\n",
      "\n",
      "See the caveats in the documentation: https://pandas.pydata.org/pandas-docs/stable/user_guide/indexing.html#returning-a-view-versus-a-copy\n",
      "  df[\"Cleaned_Text\"] = df[\"Text\"].apply(lambda x: text_cleaner(str(x))) #declare cleaned text feature\n"
     ]
    },
    {
     "data": {
      "text/html": [
       "<div>\n",
       "<style scoped>\n",
       "    .dataframe tbody tr th:only-of-type {\n",
       "        vertical-align: middle;\n",
       "    }\n",
       "\n",
       "    .dataframe tbody tr th {\n",
       "        vertical-align: top;\n",
       "    }\n",
       "\n",
       "    .dataframe thead th {\n",
       "        text-align: right;\n",
       "    }\n",
       "</style>\n",
       "<table border=\"1\" class=\"dataframe\">\n",
       "  <thead>\n",
       "    <tr style=\"text-align: right;\">\n",
       "      <th></th>\n",
       "      <th>Text</th>\n",
       "      <th>Star</th>\n",
       "      <th>Cleaned_Text</th>\n",
       "      <th>Length</th>\n",
       "    </tr>\n",
       "  </thead>\n",
       "  <tbody>\n",
       "    <tr>\n",
       "      <th>0</th>\n",
       "      <td>This is very helpfull aap.</td>\n",
       "      <td>5</td>\n",
       "      <td>helpful aap</td>\n",
       "      <td>26</td>\n",
       "    </tr>\n",
       "    <tr>\n",
       "      <th>1</th>\n",
       "      <td>Good</td>\n",
       "      <td>3</td>\n",
       "      <td>good</td>\n",
       "      <td>4</td>\n",
       "    </tr>\n",
       "    <tr>\n",
       "      <th>2</th>\n",
       "      <td>Not able to update. Neither able to uninstall.</td>\n",
       "      <td>1</td>\n",
       "      <td>abl updat neither abl uninstal</td>\n",
       "      <td>46</td>\n",
       "    </tr>\n",
       "    <tr>\n",
       "      <th>3</th>\n",
       "      <td>Nice app</td>\n",
       "      <td>4</td>\n",
       "      <td>nice app</td>\n",
       "      <td>8</td>\n",
       "    </tr>\n",
       "    <tr>\n",
       "      <th>4</th>\n",
       "      <td>Many unwanted ads</td>\n",
       "      <td>1</td>\n",
       "      <td>mani unwant ad</td>\n",
       "      <td>17</td>\n",
       "    </tr>\n",
       "  </tbody>\n",
       "</table>\n",
       "</div>"
      ],
      "text/plain": [
       "                                             Text  Star  \\\n",
       "0                      This is very helpfull aap.     5   \n",
       "1                                            Good     3   \n",
       "2  Not able to update. Neither able to uninstall.     1   \n",
       "3                                        Nice app     4   \n",
       "4                               Many unwanted ads     1   \n",
       "\n",
       "                     Cleaned_Text  Length  \n",
       "0                     helpful aap      26  \n",
       "1                            good       4  \n",
       "2  abl updat neither abl uninstal      46  \n",
       "3                        nice app       8  \n",
       "4                  mani unwant ad      17  "
      ]
     },
     "execution_count": 16,
     "metadata": {},
     "output_type": "execute_result"
    }
   ],
   "source": [
    "df[\"Cleaned_Text\"] = df[\"Text\"].apply(lambda x: text_cleaner(str(x))) #declare cleaned text feature\n",
    "df[\"Length\"] = df[\"Text\"].apply(lambda x:len(str(x))) #declare length feature\n",
    "df.head()"
   ]
  },
  {
   "cell_type": "code",
   "execution_count": 17,
   "id": "475ad360",
   "metadata": {},
   "outputs": [],
   "source": [
    "from textblob import TextBlob\n",
    "from nltk.sentiment.vader import SentimentIntensityAnalyzer\n",
    "\n",
    "def sentiment_vader(text, sid):\n",
    "    ss = sid.polarity_scores(text)\n",
    "    ss.pop('compound')\n",
    "    return max(ss, key=ss.get)"
   ]
  },
  {
   "cell_type": "code",
   "execution_count": 18,
   "id": "49f2d5f7",
   "metadata": {},
   "outputs": [],
   "source": [
    "def sentiment_textblob(text):\n",
    "        x = TextBlob(text).sentiment.polarity\n",
    "        \n",
    "        if x<0:\n",
    "            return 'negative'\n",
    "        elif x==0:\n",
    "            return 'neutral'\n",
    "        else:\n",
    "            return 'positive'\n",
    "\n",
    "def plot_sentiment_barchart(text, method='TextBlob'):\n",
    "    if method == 'TextBlob':\n",
    "        sentiment = text.map(lambda x: sentiment_textblob(x))\n",
    "    elif method == 'Vader':\n",
    "        nltk.download('vader_lexicon')\n",
    "        sid = SentimentIntensityAnalyzer()\n",
    "        sentiment = text.map(lambda x: sentiment_vader(x, sid=sid))\n",
    "    else:\n",
    "        raise ValueError('Textblob or Vader')\n",
    "    \n",
    "    plt.bar(sentiment.value_counts().index,\n",
    "            sentiment.value_counts())"
   ]
  },
  {
   "cell_type": "code",
   "execution_count": 19,
   "id": "54a1cf8f",
   "metadata": {},
   "outputs": [
    {
     "name": "stderr",
     "output_type": "stream",
     "text": [
      "[nltk_data] Downloading package vader_lexicon to\n",
      "[nltk_data]     C:\\Users\\HP\\AppData\\Roaming\\nltk_data...\n",
      "[nltk_data]   Package vader_lexicon is already up-to-date!\n"
     ]
    }
   ],
   "source": [
    "nltk.download('vader_lexicon')\n",
    "from nltk.sentiment.vader import SentimentIntensityAnalyzer\n",
    "sid = SentimentIntensityAnalyzer()\n"
   ]
  },
  {
   "cell_type": "code",
   "execution_count": 20,
   "id": "a5e378d2",
   "metadata": {},
   "outputs": [],
   "source": [
    "df[\"Score\"] = df[\"Cleaned_Text\"].apply(lambda review:sid.polarity_scores(review))"
   ]
  },
  {
   "cell_type": "code",
   "execution_count": 21,
   "id": "0d703945",
   "metadata": {},
   "outputs": [],
   "source": [
    "df[\"Compound_Score\"]  = df['Score'].apply(lambda score_dict: score_dict['compound'])"
   ]
  },
  {
   "cell_type": "code",
   "execution_count": 22,
   "id": "12f1514b",
   "metadata": {},
   "outputs": [
    {
     "data": {
      "text/html": [
       "<div>\n",
       "<style scoped>\n",
       "    .dataframe tbody tr th:only-of-type {\n",
       "        vertical-align: middle;\n",
       "    }\n",
       "\n",
       "    .dataframe tbody tr th {\n",
       "        vertical-align: top;\n",
       "    }\n",
       "\n",
       "    .dataframe thead th {\n",
       "        text-align: right;\n",
       "    }\n",
       "</style>\n",
       "<table border=\"1\" class=\"dataframe\">\n",
       "  <thead>\n",
       "    <tr style=\"text-align: right;\">\n",
       "      <th></th>\n",
       "      <th>Text</th>\n",
       "      <th>Star</th>\n",
       "      <th>Cleaned_Text</th>\n",
       "      <th>Length</th>\n",
       "      <th>Score</th>\n",
       "      <th>Compound_Score</th>\n",
       "      <th>Result</th>\n",
       "    </tr>\n",
       "  </thead>\n",
       "  <tbody>\n",
       "    <tr>\n",
       "      <th>0</th>\n",
       "      <td>This is very helpfull aap.</td>\n",
       "      <td>5</td>\n",
       "      <td>helpful aap</td>\n",
       "      <td>26</td>\n",
       "      <td>{'neg': 0.0, 'neu': 0.263, 'pos': 0.737, 'comp...</td>\n",
       "      <td>0.4215</td>\n",
       "      <td>positive</td>\n",
       "    </tr>\n",
       "    <tr>\n",
       "      <th>1</th>\n",
       "      <td>Good</td>\n",
       "      <td>3</td>\n",
       "      <td>good</td>\n",
       "      <td>4</td>\n",
       "      <td>{'neg': 0.0, 'neu': 0.0, 'pos': 1.0, 'compound...</td>\n",
       "      <td>0.4404</td>\n",
       "      <td>positive</td>\n",
       "    </tr>\n",
       "    <tr>\n",
       "      <th>2</th>\n",
       "      <td>Not able to update. Neither able to uninstall.</td>\n",
       "      <td>1</td>\n",
       "      <td>abl updat neither abl uninstal</td>\n",
       "      <td>46</td>\n",
       "      <td>{'neg': 0.0, 'neu': 1.0, 'pos': 0.0, 'compound...</td>\n",
       "      <td>0.0000</td>\n",
       "      <td>neutral</td>\n",
       "    </tr>\n",
       "    <tr>\n",
       "      <th>3</th>\n",
       "      <td>Nice app</td>\n",
       "      <td>4</td>\n",
       "      <td>nice app</td>\n",
       "      <td>8</td>\n",
       "      <td>{'neg': 0.0, 'neu': 0.263, 'pos': 0.737, 'comp...</td>\n",
       "      <td>0.4215</td>\n",
       "      <td>positive</td>\n",
       "    </tr>\n",
       "    <tr>\n",
       "      <th>4</th>\n",
       "      <td>Many unwanted ads</td>\n",
       "      <td>1</td>\n",
       "      <td>mani unwant ad</td>\n",
       "      <td>17</td>\n",
       "      <td>{'neg': 0.0, 'neu': 1.0, 'pos': 0.0, 'compound...</td>\n",
       "      <td>0.0000</td>\n",
       "      <td>neutral</td>\n",
       "    </tr>\n",
       "  </tbody>\n",
       "</table>\n",
       "</div>"
      ],
      "text/plain": [
       "                                             Text  Star  \\\n",
       "0                      This is very helpfull aap.     5   \n",
       "1                                            Good     3   \n",
       "2  Not able to update. Neither able to uninstall.     1   \n",
       "3                                        Nice app     4   \n",
       "4                               Many unwanted ads     1   \n",
       "\n",
       "                     Cleaned_Text  Length  \\\n",
       "0                     helpful aap      26   \n",
       "1                            good       4   \n",
       "2  abl updat neither abl uninstal      46   \n",
       "3                        nice app       8   \n",
       "4                  mani unwant ad      17   \n",
       "\n",
       "                                               Score  Compound_Score    Result  \n",
       "0  {'neg': 0.0, 'neu': 0.263, 'pos': 0.737, 'comp...          0.4215  positive  \n",
       "1  {'neg': 0.0, 'neu': 0.0, 'pos': 1.0, 'compound...          0.4404  positive  \n",
       "2  {'neg': 0.0, 'neu': 1.0, 'pos': 0.0, 'compound...          0.0000   neutral  \n",
       "3  {'neg': 0.0, 'neu': 0.263, 'pos': 0.737, 'comp...          0.4215  positive  \n",
       "4  {'neg': 0.0, 'neu': 1.0, 'pos': 0.0, 'compound...          0.0000   neutral  "
      ]
     },
     "execution_count": 22,
     "metadata": {},
     "output_type": "execute_result"
    }
   ],
   "source": [
    "df[\"Result\"] = df[\"Compound_Score\"].apply(lambda c: 'positive' if c > 0 else ('negative' if c < 0 else 'neutral'))\n",
    "df.head()"
   ]
  },
  {
   "cell_type": "code",
   "execution_count": 23,
   "id": "a690e7d0",
   "metadata": {},
   "outputs": [
    {
     "data": {
      "text/html": [
       "<div>\n",
       "<style scoped>\n",
       "    .dataframe tbody tr th:only-of-type {\n",
       "        vertical-align: middle;\n",
       "    }\n",
       "\n",
       "    .dataframe tbody tr th {\n",
       "        vertical-align: top;\n",
       "    }\n",
       "\n",
       "    .dataframe thead th {\n",
       "        text-align: right;\n",
       "    }\n",
       "</style>\n",
       "<table border=\"1\" class=\"dataframe\">\n",
       "  <thead>\n",
       "    <tr style=\"text-align: right;\">\n",
       "      <th></th>\n",
       "      <th>Text</th>\n",
       "      <th>Star</th>\n",
       "      <th>Cleaned_Text</th>\n",
       "      <th>Length</th>\n",
       "      <th>Score</th>\n",
       "      <th>Compound_Score</th>\n",
       "      <th>Result</th>\n",
       "    </tr>\n",
       "  </thead>\n",
       "  <tbody>\n",
       "    <tr>\n",
       "      <th>0</th>\n",
       "      <td>This is very helpfull aap.</td>\n",
       "      <td>5</td>\n",
       "      <td>helpful aap</td>\n",
       "      <td>26</td>\n",
       "      <td>{'neg': 0.0, 'neu': 0.263, 'pos': 0.737, 'comp...</td>\n",
       "      <td>0.4215</td>\n",
       "      <td>positive</td>\n",
       "    </tr>\n",
       "    <tr>\n",
       "      <th>1</th>\n",
       "      <td>Good</td>\n",
       "      <td>3</td>\n",
       "      <td>good</td>\n",
       "      <td>4</td>\n",
       "      <td>{'neg': 0.0, 'neu': 0.0, 'pos': 1.0, 'compound...</td>\n",
       "      <td>0.4404</td>\n",
       "      <td>positive</td>\n",
       "    </tr>\n",
       "    <tr>\n",
       "      <th>3</th>\n",
       "      <td>Nice app</td>\n",
       "      <td>4</td>\n",
       "      <td>nice app</td>\n",
       "      <td>8</td>\n",
       "      <td>{'neg': 0.0, 'neu': 0.263, 'pos': 0.737, 'comp...</td>\n",
       "      <td>0.4215</td>\n",
       "      <td>positive</td>\n",
       "    </tr>\n",
       "    <tr>\n",
       "      <th>5</th>\n",
       "      <td>This app good</td>\n",
       "      <td>4</td>\n",
       "      <td>app good</td>\n",
       "      <td>13</td>\n",
       "      <td>{'neg': 0.0, 'neu': 0.256, 'pos': 0.744, 'comp...</td>\n",
       "      <td>0.4404</td>\n",
       "      <td>positive</td>\n",
       "    </tr>\n",
       "    <tr>\n",
       "      <th>10</th>\n",
       "      <td>Good</td>\n",
       "      <td>5</td>\n",
       "      <td>good</td>\n",
       "      <td>4</td>\n",
       "      <td>{'neg': 0.0, 'neu': 0.0, 'pos': 1.0, 'compound...</td>\n",
       "      <td>0.4404</td>\n",
       "      <td>positive</td>\n",
       "    </tr>\n",
       "  </tbody>\n",
       "</table>\n",
       "</div>"
      ],
      "text/plain": [
       "                          Text  Star Cleaned_Text  Length  \\\n",
       "0   This is very helpfull aap.     5  helpful aap      26   \n",
       "1                         Good     3         good       4   \n",
       "3                     Nice app     4     nice app       8   \n",
       "5                This app good     4     app good      13   \n",
       "10                        Good     5         good       4   \n",
       "\n",
       "                                                Score  Compound_Score  \\\n",
       "0   {'neg': 0.0, 'neu': 0.263, 'pos': 0.737, 'comp...          0.4215   \n",
       "1   {'neg': 0.0, 'neu': 0.0, 'pos': 1.0, 'compound...          0.4404   \n",
       "3   {'neg': 0.0, 'neu': 0.263, 'pos': 0.737, 'comp...          0.4215   \n",
       "5   {'neg': 0.0, 'neu': 0.256, 'pos': 0.744, 'comp...          0.4404   \n",
       "10  {'neg': 0.0, 'neu': 0.0, 'pos': 1.0, 'compound...          0.4404   \n",
       "\n",
       "      Result  \n",
       "0   positive  \n",
       "1   positive  \n",
       "3   positive  \n",
       "5   positive  \n",
       "10  positive  "
      ]
     },
     "execution_count": 23,
     "metadata": {},
     "output_type": "execute_result"
    }
   ],
   "source": [
    "df_focus = df[(df.Result == \"positive\")]\n",
    "df_focus.head()"
   ]
  },
  {
   "cell_type": "code",
   "execution_count": 24,
   "id": "9a21cc28",
   "metadata": {},
   "outputs": [
    {
     "name": "stderr",
     "output_type": "stream",
     "text": [
      "<ipython-input-24-0ba55557098e>:8: SettingWithCopyWarning: \n",
      "A value is trying to be set on a copy of a slice from a DataFrame.\n",
      "Try using .loc[row_indexer,col_indexer] = value instead\n",
      "\n",
      "See the caveats in the documentation: https://pandas.pydata.org/pandas-docs/stable/user_guide/indexing.html#returning-a-view-versus-a-copy\n",
      "  df_focus[\"Suggestion\"] = Suggestion\n"
     ]
    },
    {
     "data": {
      "text/html": [
       "<div>\n",
       "<style scoped>\n",
       "    .dataframe tbody tr th:only-of-type {\n",
       "        vertical-align: middle;\n",
       "    }\n",
       "\n",
       "    .dataframe tbody tr th {\n",
       "        vertical-align: top;\n",
       "    }\n",
       "\n",
       "    .dataframe thead th {\n",
       "        text-align: right;\n",
       "    }\n",
       "</style>\n",
       "<table border=\"1\" class=\"dataframe\">\n",
       "  <thead>\n",
       "    <tr style=\"text-align: right;\">\n",
       "      <th></th>\n",
       "      <th>Text</th>\n",
       "      <th>Star</th>\n",
       "      <th>Cleaned_Text</th>\n",
       "      <th>Length</th>\n",
       "      <th>Score</th>\n",
       "      <th>Compound_Score</th>\n",
       "      <th>Result</th>\n",
       "      <th>Suggestion</th>\n",
       "    </tr>\n",
       "  </thead>\n",
       "  <tbody>\n",
       "    <tr>\n",
       "      <th>0</th>\n",
       "      <td>This is very helpfull aap.</td>\n",
       "      <td>5</td>\n",
       "      <td>helpful aap</td>\n",
       "      <td>26</td>\n",
       "      <td>{'neg': 0.0, 'neu': 0.263, 'pos': 0.737, 'comp...</td>\n",
       "      <td>0.4215</td>\n",
       "      <td>positive</td>\n",
       "      <td>Correct rating</td>\n",
       "    </tr>\n",
       "    <tr>\n",
       "      <th>1</th>\n",
       "      <td>Good</td>\n",
       "      <td>3</td>\n",
       "      <td>good</td>\n",
       "      <td>4</td>\n",
       "      <td>{'neg': 0.0, 'neu': 0.0, 'pos': 1.0, 'compound...</td>\n",
       "      <td>0.4404</td>\n",
       "      <td>positive</td>\n",
       "      <td>Correct rating</td>\n",
       "    </tr>\n",
       "    <tr>\n",
       "      <th>3</th>\n",
       "      <td>Nice app</td>\n",
       "      <td>4</td>\n",
       "      <td>nice app</td>\n",
       "      <td>8</td>\n",
       "      <td>{'neg': 0.0, 'neu': 0.263, 'pos': 0.737, 'comp...</td>\n",
       "      <td>0.4215</td>\n",
       "      <td>positive</td>\n",
       "      <td>Correct rating</td>\n",
       "    </tr>\n",
       "    <tr>\n",
       "      <th>5</th>\n",
       "      <td>This app good</td>\n",
       "      <td>4</td>\n",
       "      <td>app good</td>\n",
       "      <td>13</td>\n",
       "      <td>{'neg': 0.0, 'neu': 0.256, 'pos': 0.744, 'comp...</td>\n",
       "      <td>0.4404</td>\n",
       "      <td>positive</td>\n",
       "      <td>Correct rating</td>\n",
       "    </tr>\n",
       "    <tr>\n",
       "      <th>10</th>\n",
       "      <td>Good</td>\n",
       "      <td>5</td>\n",
       "      <td>good</td>\n",
       "      <td>4</td>\n",
       "      <td>{'neg': 0.0, 'neu': 0.0, 'pos': 1.0, 'compound...</td>\n",
       "      <td>0.4404</td>\n",
       "      <td>positive</td>\n",
       "      <td>Correct rating</td>\n",
       "    </tr>\n",
       "  </tbody>\n",
       "</table>\n",
       "</div>"
      ],
      "text/plain": [
       "                          Text  Star Cleaned_Text  Length  \\\n",
       "0   This is very helpfull aap.     5  helpful aap      26   \n",
       "1                         Good     3         good       4   \n",
       "3                     Nice app     4     nice app       8   \n",
       "5                This app good     4     app good      13   \n",
       "10                        Good     5         good       4   \n",
       "\n",
       "                                                Score  Compound_Score  \\\n",
       "0   {'neg': 0.0, 'neu': 0.263, 'pos': 0.737, 'comp...          0.4215   \n",
       "1   {'neg': 0.0, 'neu': 0.0, 'pos': 1.0, 'compound...          0.4404   \n",
       "3   {'neg': 0.0, 'neu': 0.263, 'pos': 0.737, 'comp...          0.4215   \n",
       "5   {'neg': 0.0, 'neu': 0.256, 'pos': 0.744, 'comp...          0.4404   \n",
       "10  {'neg': 0.0, 'neu': 0.0, 'pos': 1.0, 'compound...          0.4404   \n",
       "\n",
       "      Result      Suggestion  \n",
       "0   positive  Correct rating  \n",
       "1   positive  Correct rating  \n",
       "3   positive  Correct rating  \n",
       "5   positive  Correct rating  \n",
       "10  positive  Correct rating  "
      ]
     },
     "execution_count": 24,
     "metadata": {},
     "output_type": "execute_result"
    }
   ],
   "source": [
    "Suggestion = []\n",
    "for row in df_focus[\"Star\"] :\n",
    "    if row >= 3 :\n",
    "         Suggestion.append(\"Correct rating\")\n",
    "    else :\n",
    "         Suggestion.append(\"Check rating given\")\n",
    "            \n",
    "df_focus[\"Suggestion\"] = Suggestion\n",
    "df_focus.head()"
   ]
  },
  {
   "cell_type": "code",
   "execution_count": 25,
   "id": "b22887c4",
   "metadata": {},
   "outputs": [
    {
     "data": {
      "text/plain": [
       "Correct rating        3192\n",
       "Check rating given     491\n",
       "Name: Suggestion, dtype: int64"
      ]
     },
     "execution_count": 25,
     "metadata": {},
     "output_type": "execute_result"
    }
   ],
   "source": [
    "df_focus.Suggestion.value_counts()"
   ]
  },
  {
   "cell_type": "code",
   "execution_count": 26,
   "id": "19b6a500",
   "metadata": {},
   "outputs": [
    {
     "data": {
      "text/html": [
       "<div>\n",
       "<style scoped>\n",
       "    .dataframe tbody tr th:only-of-type {\n",
       "        vertical-align: middle;\n",
       "    }\n",
       "\n",
       "    .dataframe tbody tr th {\n",
       "        vertical-align: top;\n",
       "    }\n",
       "\n",
       "    .dataframe thead th {\n",
       "        text-align: right;\n",
       "    }\n",
       "</style>\n",
       "<table border=\"1\" class=\"dataframe\">\n",
       "  <thead>\n",
       "    <tr style=\"text-align: right;\">\n",
       "      <th></th>\n",
       "      <th>Text</th>\n",
       "      <th>Star</th>\n",
       "      <th>Cleaned_Text</th>\n",
       "      <th>Length</th>\n",
       "      <th>Score</th>\n",
       "      <th>Compound_Score</th>\n",
       "      <th>Result</th>\n",
       "      <th>Suggestion</th>\n",
       "    </tr>\n",
       "  </thead>\n",
       "  <tbody>\n",
       "    <tr>\n",
       "      <th>1173</th>\n",
       "      <td>good</td>\n",
       "      <td>5</td>\n",
       "      <td>good</td>\n",
       "      <td>4</td>\n",
       "      <td>{'neg': 0.0, 'neu': 0.0, 'pos': 1.0, 'compound...</td>\n",
       "      <td>0.4404</td>\n",
       "      <td>positive</td>\n",
       "      <td>Correct rating</td>\n",
       "    </tr>\n",
       "    <tr>\n",
       "      <th>3481</th>\n",
       "      <td>The app is helpful but keeps on shutting down ...</td>\n",
       "      <td>2</td>\n",
       "      <td>app help keep shut everi sec</td>\n",
       "      <td>58</td>\n",
       "      <td>{'neg': 0.0, 'neu': 0.649, 'pos': 0.351, 'comp...</td>\n",
       "      <td>0.4019</td>\n",
       "      <td>positive</td>\n",
       "      <td>Check rating given</td>\n",
       "    </tr>\n",
       "    <tr>\n",
       "      <th>6933</th>\n",
       "      <td>Nice apps</td>\n",
       "      <td>5</td>\n",
       "      <td>nice app</td>\n",
       "      <td>9</td>\n",
       "      <td>{'neg': 0.0, 'neu': 0.263, 'pos': 0.737, 'comp...</td>\n",
       "      <td>0.4215</td>\n",
       "      <td>positive</td>\n",
       "      <td>Correct rating</td>\n",
       "    </tr>\n",
       "    <tr>\n",
       "      <th>6583</th>\n",
       "      <td>This app is cool</td>\n",
       "      <td>4</td>\n",
       "      <td>app cool</td>\n",
       "      <td>16</td>\n",
       "      <td>{'neg': 0.0, 'neu': 0.303, 'pos': 0.697, 'comp...</td>\n",
       "      <td>0.3182</td>\n",
       "      <td>positive</td>\n",
       "      <td>Correct rating</td>\n",
       "    </tr>\n",
       "    <tr>\n",
       "      <th>2299</th>\n",
       "      <td>Very very nice app</td>\n",
       "      <td>5</td>\n",
       "      <td>nice app</td>\n",
       "      <td>18</td>\n",
       "      <td>{'neg': 0.0, 'neu': 0.263, 'pos': 0.737, 'comp...</td>\n",
       "      <td>0.4215</td>\n",
       "      <td>positive</td>\n",
       "      <td>Correct rating</td>\n",
       "    </tr>\n",
       "    <tr>\n",
       "      <th>5625</th>\n",
       "      <td>Great app</td>\n",
       "      <td>5</td>\n",
       "      <td>great app</td>\n",
       "      <td>9</td>\n",
       "      <td>{'neg': 0.0, 'neu': 0.196, 'pos': 0.804, 'comp...</td>\n",
       "      <td>0.6249</td>\n",
       "      <td>positive</td>\n",
       "      <td>Correct rating</td>\n",
       "    </tr>\n",
       "    <tr>\n",
       "      <th>1133</th>\n",
       "      <td>Ok</td>\n",
       "      <td>5</td>\n",
       "      <td>ok</td>\n",
       "      <td>2</td>\n",
       "      <td>{'neg': 0.0, 'neu': 0.0, 'pos': 1.0, 'compound...</td>\n",
       "      <td>0.2960</td>\n",
       "      <td>positive</td>\n",
       "      <td>Correct rating</td>\n",
       "    </tr>\n",
       "    <tr>\n",
       "      <th>5368</th>\n",
       "      <td>Everything is best</td>\n",
       "      <td>5</td>\n",
       "      <td>everyth best</td>\n",
       "      <td>18</td>\n",
       "      <td>{'neg': 0.0, 'neu': 0.192, 'pos': 0.808, 'comp...</td>\n",
       "      <td>0.6369</td>\n",
       "      <td>positive</td>\n",
       "      <td>Correct rating</td>\n",
       "    </tr>\n",
       "    <tr>\n",
       "      <th>5172</th>\n",
       "      <td>nice</td>\n",
       "      <td>5</td>\n",
       "      <td>nice</td>\n",
       "      <td>4</td>\n",
       "      <td>{'neg': 0.0, 'neu': 0.0, 'pos': 1.0, 'compound...</td>\n",
       "      <td>0.4215</td>\n",
       "      <td>positive</td>\n",
       "      <td>Correct rating</td>\n",
       "    </tr>\n",
       "    <tr>\n",
       "      <th>488</th>\n",
       "      <td>Good</td>\n",
       "      <td>5</td>\n",
       "      <td>good</td>\n",
       "      <td>4</td>\n",
       "      <td>{'neg': 0.0, 'neu': 0.0, 'pos': 1.0, 'compound...</td>\n",
       "      <td>0.4404</td>\n",
       "      <td>positive</td>\n",
       "      <td>Correct rating</td>\n",
       "    </tr>\n",
       "  </tbody>\n",
       "</table>\n",
       "</div>"
      ],
      "text/plain": [
       "                                                   Text  Star  \\\n",
       "1173                                               good     5   \n",
       "3481  The app is helpful but keeps on shutting down ...     2   \n",
       "6933                                          Nice apps     5   \n",
       "6583                                   This app is cool     4   \n",
       "2299                                 Very very nice app     5   \n",
       "5625                                          Great app     5   \n",
       "1133                                                 Ok     5   \n",
       "5368                                 Everything is best     5   \n",
       "5172                                               nice     5   \n",
       "488                                                Good     5   \n",
       "\n",
       "                      Cleaned_Text  Length  \\\n",
       "1173                          good       4   \n",
       "3481  app help keep shut everi sec      58   \n",
       "6933                      nice app       9   \n",
       "6583                      app cool      16   \n",
       "2299                      nice app      18   \n",
       "5625                     great app       9   \n",
       "1133                            ok       2   \n",
       "5368                  everyth best      18   \n",
       "5172                          nice       4   \n",
       "488                           good       4   \n",
       "\n",
       "                                                  Score  Compound_Score  \\\n",
       "1173  {'neg': 0.0, 'neu': 0.0, 'pos': 1.0, 'compound...          0.4404   \n",
       "3481  {'neg': 0.0, 'neu': 0.649, 'pos': 0.351, 'comp...          0.4019   \n",
       "6933  {'neg': 0.0, 'neu': 0.263, 'pos': 0.737, 'comp...          0.4215   \n",
       "6583  {'neg': 0.0, 'neu': 0.303, 'pos': 0.697, 'comp...          0.3182   \n",
       "2299  {'neg': 0.0, 'neu': 0.263, 'pos': 0.737, 'comp...          0.4215   \n",
       "5625  {'neg': 0.0, 'neu': 0.196, 'pos': 0.804, 'comp...          0.6249   \n",
       "1133  {'neg': 0.0, 'neu': 0.0, 'pos': 1.0, 'compound...          0.2960   \n",
       "5368  {'neg': 0.0, 'neu': 0.192, 'pos': 0.808, 'comp...          0.6369   \n",
       "5172  {'neg': 0.0, 'neu': 0.0, 'pos': 1.0, 'compound...          0.4215   \n",
       "488   {'neg': 0.0, 'neu': 0.0, 'pos': 1.0, 'compound...          0.4404   \n",
       "\n",
       "        Result          Suggestion  \n",
       "1173  positive      Correct rating  \n",
       "3481  positive  Check rating given  \n",
       "6933  positive      Correct rating  \n",
       "6583  positive      Correct rating  \n",
       "2299  positive      Correct rating  \n",
       "5625  positive      Correct rating  \n",
       "1133  positive      Correct rating  \n",
       "5368  positive      Correct rating  \n",
       "5172  positive      Correct rating  \n",
       "488   positive      Correct rating  "
      ]
     },
     "execution_count": 26,
     "metadata": {},
     "output_type": "execute_result"
    }
   ],
   "source": [
    "df_focus.sample(10)"
   ]
  },
  {
   "cell_type": "code",
   "execution_count": null,
   "id": "75e22272",
   "metadata": {},
   "outputs": [],
   "source": [
    "keyword = ['good','nice','thank you','best','awesome','helpful']"
   ]
  },
  {
   "cell_type": "code",
   "execution_count": null,
   "id": "1a2582ba",
   "metadata": {},
   "outputs": [],
   "source": [
    "final = df_focus[(df_focus[\"Suggestion\"] == \"Focus Needed\")]\n",
    "final = final[final[\"Cleaned_Text\"].isin(keyword)]\n",
    "final.drop(final.iloc[:, 3:7], inplace = True, axis = 1)\n",
    "display(final.head())\n",
    "print(f\"There are about {len(final.Suggestion)} reviews that are positive but have a bad rating\")"
   ]
  },
  {
   "cell_type": "markdown",
   "id": "cd8ea91b",
   "metadata": {},
   "source": [
    "### part 1 ques 2 completed"
   ]
  }
 ],
 "metadata": {
  "kernelspec": {
   "display_name": "Python 3",
   "language": "python",
   "name": "python3"
  },
  "language_info": {
   "codemirror_mode": {
    "name": "ipython",
    "version": 3
   },
   "file_extension": ".py",
   "mimetype": "text/x-python",
   "name": "python",
   "nbconvert_exporter": "python",
   "pygments_lexer": "ipython3",
   "version": "3.8.8"
  }
 },
 "nbformat": 4,
 "nbformat_minor": 5
}
